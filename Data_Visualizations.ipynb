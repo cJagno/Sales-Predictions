{
  "nbformat": 4,
  "nbformat_minor": 0,
  "metadata": {
    "colab": {
      "name": "Data_Visualizations.ipynb",
      "provenance": [],
      "collapsed_sections": [],
      "authorship_tag": "ABX9TyMSyqPe7TWha9QFdPyL9dHr",
      "include_colab_link": true
    },
    "kernelspec": {
      "name": "python3",
      "display_name": "Python 3"
    },
    "language_info": {
      "name": "python"
    }
  },
  "cells": [
    {
      "cell_type": "markdown",
      "metadata": {
        "id": "view-in-github",
        "colab_type": "text"
      },
      "source": [
        "<a href=\"https://colab.research.google.com/github/cJagno/Sales-Predictions/blob/main/Data_Visualizations.ipynb\" target=\"_parent\"><img src=\"https://colab.research.google.com/assets/colab-badge.svg\" alt=\"Open In Colab\"/></a>"
      ]
    },
    {
      "cell_type": "markdown",
      "metadata": {
        "id": "f_dIJSQMCU4P"
      },
      "source": [
        "Data Cleaning"
      ]
    },
    {
      "cell_type": "code",
      "metadata": {
        "colab": {
          "base_uri": "https://localhost:8080/"
        },
        "id": "_7PnVoktCPUG",
        "outputId": "97066228-8868-47c9-ae5d-221304cb342f"
      },
      "source": [
        "from google.colab import drive\n",
        "drive.mount ('/content/drive')"
      ],
      "execution_count": null,
      "outputs": [
        {
          "output_type": "stream",
          "text": [
            "Drive already mounted at /content/drive; to attempt to forcibly remount, call drive.mount(\"/content/drive\", force_remount=True).\n"
          ],
          "name": "stdout"
        }
      ]
    },
    {
      "cell_type": "code",
      "metadata": {
        "id": "limdMe2lDqAd"
      },
      "source": [
        "import pandas as pd\n",
        "import numpy as np\n",
        "import matplotlib.pyplot as plt\n",
        "import seaborn as sns"
      ],
      "execution_count": null,
      "outputs": []
    },
    {
      "cell_type": "code",
      "metadata": {
        "id": "RMlOn3wKDuew"
      },
      "source": [
        "sales = pd.read_csv('/content/drive/MyDrive/PT_Data_Science/PandasForDataManipulation/sales_predictions.csv')"
      ],
      "execution_count": null,
      "outputs": []
    },
    {
      "cell_type": "code",
      "metadata": {
        "colab": {
          "base_uri": "https://localhost:8080/",
          "height": 307
        },
        "id": "cwQQSOcZD7lF",
        "outputId": "ca9ada66-6ab3-411e-8080-26a5fa029dcf"
      },
      "source": [
        "sales.head()"
      ],
      "execution_count": null,
      "outputs": [
        {
          "output_type": "execute_result",
          "data": {
            "text/html": [
              "<div>\n",
              "<style scoped>\n",
              "    .dataframe tbody tr th:only-of-type {\n",
              "        vertical-align: middle;\n",
              "    }\n",
              "\n",
              "    .dataframe tbody tr th {\n",
              "        vertical-align: top;\n",
              "    }\n",
              "\n",
              "    .dataframe thead th {\n",
              "        text-align: right;\n",
              "    }\n",
              "</style>\n",
              "<table border=\"1\" class=\"dataframe\">\n",
              "  <thead>\n",
              "    <tr style=\"text-align: right;\">\n",
              "      <th></th>\n",
              "      <th>Item_Identifier</th>\n",
              "      <th>Item_Weight</th>\n",
              "      <th>Item_Fat_Content</th>\n",
              "      <th>Item_Visibility</th>\n",
              "      <th>Item_Type</th>\n",
              "      <th>Item_MRP</th>\n",
              "      <th>Outlet_Identifier</th>\n",
              "      <th>Outlet_Establishment_Year</th>\n",
              "      <th>Outlet_Size</th>\n",
              "      <th>Outlet_Location_Type</th>\n",
              "      <th>Outlet_Type</th>\n",
              "      <th>Item_Outlet_Sales</th>\n",
              "    </tr>\n",
              "  </thead>\n",
              "  <tbody>\n",
              "    <tr>\n",
              "      <th>0</th>\n",
              "      <td>FDA15</td>\n",
              "      <td>9.30</td>\n",
              "      <td>Low Fat</td>\n",
              "      <td>0.016047</td>\n",
              "      <td>Dairy</td>\n",
              "      <td>249.8092</td>\n",
              "      <td>OUT049</td>\n",
              "      <td>1999</td>\n",
              "      <td>Medium</td>\n",
              "      <td>Tier 1</td>\n",
              "      <td>Supermarket Type1</td>\n",
              "      <td>3735.1380</td>\n",
              "    </tr>\n",
              "    <tr>\n",
              "      <th>1</th>\n",
              "      <td>DRC01</td>\n",
              "      <td>5.92</td>\n",
              "      <td>Regular</td>\n",
              "      <td>0.019278</td>\n",
              "      <td>Soft Drinks</td>\n",
              "      <td>48.2692</td>\n",
              "      <td>OUT018</td>\n",
              "      <td>2009</td>\n",
              "      <td>Medium</td>\n",
              "      <td>Tier 3</td>\n",
              "      <td>Supermarket Type2</td>\n",
              "      <td>443.4228</td>\n",
              "    </tr>\n",
              "    <tr>\n",
              "      <th>2</th>\n",
              "      <td>FDN15</td>\n",
              "      <td>17.50</td>\n",
              "      <td>Low Fat</td>\n",
              "      <td>0.016760</td>\n",
              "      <td>Meat</td>\n",
              "      <td>141.6180</td>\n",
              "      <td>OUT049</td>\n",
              "      <td>1999</td>\n",
              "      <td>Medium</td>\n",
              "      <td>Tier 1</td>\n",
              "      <td>Supermarket Type1</td>\n",
              "      <td>2097.2700</td>\n",
              "    </tr>\n",
              "    <tr>\n",
              "      <th>3</th>\n",
              "      <td>FDX07</td>\n",
              "      <td>19.20</td>\n",
              "      <td>Regular</td>\n",
              "      <td>0.000000</td>\n",
              "      <td>Fruits and Vegetables</td>\n",
              "      <td>182.0950</td>\n",
              "      <td>OUT010</td>\n",
              "      <td>1998</td>\n",
              "      <td>NaN</td>\n",
              "      <td>Tier 3</td>\n",
              "      <td>Grocery Store</td>\n",
              "      <td>732.3800</td>\n",
              "    </tr>\n",
              "    <tr>\n",
              "      <th>4</th>\n",
              "      <td>NCD19</td>\n",
              "      <td>8.93</td>\n",
              "      <td>Low Fat</td>\n",
              "      <td>0.000000</td>\n",
              "      <td>Household</td>\n",
              "      <td>53.8614</td>\n",
              "      <td>OUT013</td>\n",
              "      <td>1987</td>\n",
              "      <td>High</td>\n",
              "      <td>Tier 3</td>\n",
              "      <td>Supermarket Type1</td>\n",
              "      <td>994.7052</td>\n",
              "    </tr>\n",
              "  </tbody>\n",
              "</table>\n",
              "</div>"
            ],
            "text/plain": [
              "  Item_Identifier  Item_Weight  ...        Outlet_Type  Item_Outlet_Sales\n",
              "0           FDA15         9.30  ...  Supermarket Type1          3735.1380\n",
              "1           DRC01         5.92  ...  Supermarket Type2           443.4228\n",
              "2           FDN15        17.50  ...  Supermarket Type1          2097.2700\n",
              "3           FDX07        19.20  ...      Grocery Store           732.3800\n",
              "4           NCD19         8.93  ...  Supermarket Type1           994.7052\n",
              "\n",
              "[5 rows x 12 columns]"
            ]
          },
          "metadata": {
            "tags": []
          },
          "execution_count": 32
        }
      ]
    },
    {
      "cell_type": "code",
      "metadata": {
        "colab": {
          "base_uri": "https://localhost:8080/"
        },
        "id": "jzkhNoA3D9Ol",
        "outputId": "3fe65cd1-2db0-44d5-b819-1449427dc781"
      },
      "source": [
        "sales.info()"
      ],
      "execution_count": null,
      "outputs": [
        {
          "output_type": "stream",
          "text": [
            "<class 'pandas.core.frame.DataFrame'>\n",
            "RangeIndex: 8523 entries, 0 to 8522\n",
            "Data columns (total 12 columns):\n",
            " #   Column                     Non-Null Count  Dtype  \n",
            "---  ------                     --------------  -----  \n",
            " 0   Item_Identifier            8523 non-null   object \n",
            " 1   Item_Weight                7060 non-null   float64\n",
            " 2   Item_Fat_Content           8523 non-null   object \n",
            " 3   Item_Visibility            8523 non-null   float64\n",
            " 4   Item_Type                  8523 non-null   object \n",
            " 5   Item_MRP                   8523 non-null   float64\n",
            " 6   Outlet_Identifier          8523 non-null   object \n",
            " 7   Outlet_Establishment_Year  8523 non-null   int64  \n",
            " 8   Outlet_Size                6113 non-null   object \n",
            " 9   Outlet_Location_Type       8523 non-null   object \n",
            " 10  Outlet_Type                8523 non-null   object \n",
            " 11  Item_Outlet_Sales          8523 non-null   float64\n",
            "dtypes: float64(4), int64(1), object(7)\n",
            "memory usage: 799.2+ KB\n"
          ],
          "name": "stdout"
        }
      ]
    },
    {
      "cell_type": "code",
      "metadata": {
        "id": "zWCdwvmsEEp3"
      },
      "source": [
        "#sales['Item_Identifier'].value_counts()"
      ],
      "execution_count": null,
      "outputs": []
    },
    {
      "cell_type": "code",
      "metadata": {
        "id": "yIvHNz3JKTEm"
      },
      "source": [
        "#sales['Item_Identifier']\n"
      ],
      "execution_count": null,
      "outputs": []
    },
    {
      "cell_type": "code",
      "metadata": {
        "colab": {
          "base_uri": "https://localhost:8080/"
        },
        "id": "kYDFw_3QESlf",
        "outputId": "900c345b-3c25-441a-b14b-631b9de22a46"
      },
      "source": [
        "sales.shape"
      ],
      "execution_count": null,
      "outputs": [
        {
          "output_type": "execute_result",
          "data": {
            "text/plain": [
              "(8523, 12)"
            ]
          },
          "metadata": {
            "tags": []
          },
          "execution_count": 36
        }
      ]
    },
    {
      "cell_type": "code",
      "metadata": {
        "id": "Hdi7wFWRF5ni"
      },
      "source": [
        "out_ident = sales['Outlet_Identifier']== 'OUT045'\n",
        "out_ident2 = sales['Outlet_Identifier']== 'OUT010'\n",
        "out_loc3 = sales['Outlet_Location_Type']== 'Tier 3'\n",
        "out_loc2 = sales['Outlet_Location_Type']== 'Tier 2'\n",
        "out_loc1 = sales['Outlet_Location_Type']== 'Tier 1'\n",
        "out_type1 = sales['Outlet_Type']== 'Supermarket Type1'\n",
        "out_type2 = sales['Outlet_Type']== 'Supermarket Type2'\n",
        "out_type3 = sales['Outlet_Type']== 'Supermarket Type3'\n",
        "out_type4 = sales['Outlet_Type']== 'Grocery Store'\n"
      ],
      "execution_count": null,
      "outputs": []
    },
    {
      "cell_type": "code",
      "metadata": {
        "colab": {
          "base_uri": "https://localhost:8080/"
        },
        "id": "5pRlX5bfQUwQ",
        "outputId": "26faa56c-2e4c-480d-aba8-6bb07c2c5ba9"
      },
      "source": [
        "#Supermarket Type2 and Type3 = medium Grocery Store = small\n",
        "sales[out_type1].value_counts('Outlet_Size')"
      ],
      "execution_count": null,
      "outputs": [
        {
          "output_type": "execute_result",
          "data": {
            "text/plain": [
              "Outlet_Size\n",
              "Small     1860\n",
              "High       932\n",
              "Medium     930\n",
              "dtype: int64"
            ]
          },
          "metadata": {
            "tags": []
          },
          "execution_count": 38
        }
      ]
    },
    {
      "cell_type": "code",
      "metadata": {
        "colab": {
          "base_uri": "https://localhost:8080/"
        },
        "id": "K1t2VbR5Pdu1",
        "outputId": "259a6071-8c1f-48e6-ddba-a6f15ad08da6"
      },
      "source": [
        "sales[out_loc3].value_counts('Outlet_Size')"
      ],
      "execution_count": null,
      "outputs": [
        {
          "output_type": "execute_result",
          "data": {
            "text/plain": [
              "Outlet_Size\n",
              "Medium    1863\n",
              "High       932\n",
              "dtype: int64"
            ]
          },
          "metadata": {
            "tags": []
          },
          "execution_count": 39
        }
      ]
    },
    {
      "cell_type": "code",
      "metadata": {
        "colab": {
          "base_uri": "https://localhost:8080/"
        },
        "id": "D5qiK4fuI1rK",
        "outputId": "b4238cf4-3a64-4b32-ebad-451801e487f3"
      },
      "source": [
        "sales[out_ident].shape"
      ],
      "execution_count": null,
      "outputs": [
        {
          "output_type": "execute_result",
          "data": {
            "text/plain": [
              "(929, 12)"
            ]
          },
          "metadata": {
            "tags": []
          },
          "execution_count": 40
        }
      ]
    },
    {
      "cell_type": "code",
      "metadata": {
        "colab": {
          "base_uri": "https://localhost:8080/",
          "height": 307
        },
        "id": "EHz_B26HJOCl",
        "outputId": "635518e0-1969-4d00-e889-7ed40a8f9f95"
      },
      "source": [
        "sales[out_ident].head()"
      ],
      "execution_count": null,
      "outputs": [
        {
          "output_type": "execute_result",
          "data": {
            "text/html": [
              "<div>\n",
              "<style scoped>\n",
              "    .dataframe tbody tr th:only-of-type {\n",
              "        vertical-align: middle;\n",
              "    }\n",
              "\n",
              "    .dataframe tbody tr th {\n",
              "        vertical-align: top;\n",
              "    }\n",
              "\n",
              "    .dataframe thead th {\n",
              "        text-align: right;\n",
              "    }\n",
              "</style>\n",
              "<table border=\"1\" class=\"dataframe\">\n",
              "  <thead>\n",
              "    <tr style=\"text-align: right;\">\n",
              "      <th></th>\n",
              "      <th>Item_Identifier</th>\n",
              "      <th>Item_Weight</th>\n",
              "      <th>Item_Fat_Content</th>\n",
              "      <th>Item_Visibility</th>\n",
              "      <th>Item_Type</th>\n",
              "      <th>Item_MRP</th>\n",
              "      <th>Outlet_Identifier</th>\n",
              "      <th>Outlet_Establishment_Year</th>\n",
              "      <th>Outlet_Size</th>\n",
              "      <th>Outlet_Location_Type</th>\n",
              "      <th>Outlet_Type</th>\n",
              "      <th>Item_Outlet_Sales</th>\n",
              "    </tr>\n",
              "  </thead>\n",
              "  <tbody>\n",
              "    <tr>\n",
              "      <th>8</th>\n",
              "      <td>FDH17</td>\n",
              "      <td>16.200</td>\n",
              "      <td>Regular</td>\n",
              "      <td>0.016687</td>\n",
              "      <td>Frozen Foods</td>\n",
              "      <td>96.9726</td>\n",
              "      <td>OUT045</td>\n",
              "      <td>2002</td>\n",
              "      <td>NaN</td>\n",
              "      <td>Tier 2</td>\n",
              "      <td>Supermarket Type1</td>\n",
              "      <td>1076.5986</td>\n",
              "    </tr>\n",
              "    <tr>\n",
              "      <th>33</th>\n",
              "      <td>FDO23</td>\n",
              "      <td>17.850</td>\n",
              "      <td>Low Fat</td>\n",
              "      <td>0.000000</td>\n",
              "      <td>Breads</td>\n",
              "      <td>93.1436</td>\n",
              "      <td>OUT045</td>\n",
              "      <td>2002</td>\n",
              "      <td>NaN</td>\n",
              "      <td>Tier 2</td>\n",
              "      <td>Supermarket Type1</td>\n",
              "      <td>2174.5028</td>\n",
              "    </tr>\n",
              "    <tr>\n",
              "      <th>46</th>\n",
              "      <td>NCP05</td>\n",
              "      <td>19.600</td>\n",
              "      <td>Low Fat</td>\n",
              "      <td>0.000000</td>\n",
              "      <td>Health and Hygiene</td>\n",
              "      <td>153.3024</td>\n",
              "      <td>OUT045</td>\n",
              "      <td>2002</td>\n",
              "      <td>NaN</td>\n",
              "      <td>Tier 2</td>\n",
              "      <td>Supermarket Type1</td>\n",
              "      <td>2428.8384</td>\n",
              "    </tr>\n",
              "    <tr>\n",
              "      <th>47</th>\n",
              "      <td>FDV49</td>\n",
              "      <td>10.000</td>\n",
              "      <td>Low Fat</td>\n",
              "      <td>0.025880</td>\n",
              "      <td>Canned</td>\n",
              "      <td>265.2226</td>\n",
              "      <td>OUT045</td>\n",
              "      <td>2002</td>\n",
              "      <td>NaN</td>\n",
              "      <td>Tier 2</td>\n",
              "      <td>Supermarket Type1</td>\n",
              "      <td>5815.0972</td>\n",
              "    </tr>\n",
              "    <tr>\n",
              "      <th>56</th>\n",
              "      <td>NCX54</td>\n",
              "      <td>9.195</td>\n",
              "      <td>Low Fat</td>\n",
              "      <td>0.048157</td>\n",
              "      <td>Household</td>\n",
              "      <td>106.1622</td>\n",
              "      <td>OUT045</td>\n",
              "      <td>2002</td>\n",
              "      <td>NaN</td>\n",
              "      <td>Tier 2</td>\n",
              "      <td>Supermarket Type1</td>\n",
              "      <td>2117.2440</td>\n",
              "    </tr>\n",
              "  </tbody>\n",
              "</table>\n",
              "</div>"
            ],
            "text/plain": [
              "   Item_Identifier  Item_Weight  ...        Outlet_Type  Item_Outlet_Sales\n",
              "8            FDH17       16.200  ...  Supermarket Type1          1076.5986\n",
              "33           FDO23       17.850  ...  Supermarket Type1          2174.5028\n",
              "46           NCP05       19.600  ...  Supermarket Type1          2428.8384\n",
              "47           FDV49       10.000  ...  Supermarket Type1          5815.0972\n",
              "56           NCX54        9.195  ...  Supermarket Type1          2117.2440\n",
              "\n",
              "[5 rows x 12 columns]"
            ]
          },
          "metadata": {
            "tags": []
          },
          "execution_count": 41
        }
      ]
    },
    {
      "cell_type": "code",
      "metadata": {
        "colab": {
          "base_uri": "https://localhost:8080/"
        },
        "id": "MJ8J-dk1NiLm",
        "outputId": "afcbe973-5018-412d-c4f4-e1c9359c1522"
      },
      "source": [
        "sales['Item_Fat_Content'].value_counts()"
      ],
      "execution_count": null,
      "outputs": [
        {
          "output_type": "execute_result",
          "data": {
            "text/plain": [
              "Low Fat    5089\n",
              "Regular    2889\n",
              "LF          316\n",
              "reg         117\n",
              "low fat     112\n",
              "Name: Item_Fat_Content, dtype: int64"
            ]
          },
          "metadata": {
            "tags": []
          },
          "execution_count": 42
        }
      ]
    },
    {
      "cell_type": "code",
      "metadata": {
        "id": "c_6IU6FnN8lE"
      },
      "source": [
        "sales.loc[sales['Item_Fat_Content'] == 'LF', 'Item_Fat_Content'] = 'Low Fat'\n",
        "sales.loc[sales['Item_Fat_Content'] == 'reg', 'Item_Fat_Content'] = 'Regular'\n",
        "sales.loc[sales['Item_Fat_Content'] == 'low fat', 'Item_Fat_Content'] = 'Low Fat'"
      ],
      "execution_count": null,
      "outputs": []
    },
    {
      "cell_type": "code",
      "metadata": {
        "colab": {
          "base_uri": "https://localhost:8080/"
        },
        "id": "AxQkI2aPOqUy",
        "outputId": "ca53137d-8337-41c5-a5c0-8bdebc1381bc"
      },
      "source": [
        "sales['Item_Fat_Content'].value_counts()"
      ],
      "execution_count": null,
      "outputs": [
        {
          "output_type": "execute_result",
          "data": {
            "text/plain": [
              "Low Fat    5517\n",
              "Regular    3006\n",
              "Name: Item_Fat_Content, dtype: int64"
            ]
          },
          "metadata": {
            "tags": []
          },
          "execution_count": 44
        }
      ]
    },
    {
      "cell_type": "code",
      "metadata": {
        "id": "tiVPLzuEPF4U",
        "colab": {
          "base_uri": "https://localhost:8080/"
        },
        "outputId": "f7a84397-9f4e-433c-e6c7-3a56ca5d32a1"
      },
      "source": [
        "sales['Outlet_Size'].value_counts()"
      ],
      "execution_count": null,
      "outputs": [
        {
          "output_type": "execute_result",
          "data": {
            "text/plain": [
              "Medium    2793\n",
              "Small     2388\n",
              "High       932\n",
              "Name: Outlet_Size, dtype: int64"
            ]
          },
          "metadata": {
            "tags": []
          },
          "execution_count": 45
        }
      ]
    },
    {
      "cell_type": "code",
      "metadata": {
        "id": "aV9QNIQPX75A"
      },
      "source": [
        "size_mis = sales['Outlet_Size'].isna()\n",
        "outtypedf = sales.loc[size_mis,:]\n",
        "outtypedf['Outlet_Type'].value_counts()\n",
        "type_grocery = sales['Outlet_Type']== 'Grocery Store'\n",
        "type_superT1 = sales['Outlet_Type']== 'Supermarket Type1'"
      ],
      "execution_count": null,
      "outputs": []
    },
    {
      "cell_type": "code",
      "metadata": {
        "id": "IX_01qh2YlJJ"
      },
      "source": [
        "#type1filt = sales['Outlet_Type']== 'Supermarket Type1'\n",
        "sales.fillna(sales.mean(),inplace=True)\n",
        "#sales.loc[out2df,:].fillna('High', inplace=True) \n",
        "#grocerytypedf = outtypedf.loc[outtypeGdf, :]\n",
        "#grocerytypedf.loc[0:, 'Outlet_Size'].fillna('Small', inplace=True)\n",
        "#supertype1df = outtypedf.loc[outtypeT1df,:]\n",
        "#supertype1df.loc[0:, 'Outlet_Size'].fillna('High', inplace=True)\n",
        "#sales.loc[type_grocery & size_mis].fillna('Small', inplace=True)\n",
        "#sales.loc[size_mis & type_superT1].fillna('High', inplace=True)\n",
        "sales.loc[0:, 'Outlet_Size'].fillna('High', inplace=True)"
      ],
      "execution_count": null,
      "outputs": []
    },
    {
      "cell_type": "code",
      "metadata": {
        "colab": {
          "base_uri": "https://localhost:8080/"
        },
        "id": "3PEleQgIbwde",
        "outputId": "977534e4-42df-44ad-d016-d5cd836e3feb"
      },
      "source": [
        "#Supermarket type1= mixed Type2 and Type3 = medium Grocery Store = small\n",
        "sales['Item_Identifier'].value_counts()"
      ],
      "execution_count": null,
      "outputs": [
        {
          "output_type": "execute_result",
          "data": {
            "text/plain": [
              "FDW13    10\n",
              "FDG33    10\n",
              "FDG09     9\n",
              "FDF52     9\n",
              "FDD38     9\n",
              "         ..\n",
              "FDK57     1\n",
              "FDC23     1\n",
              "FDY43     1\n",
              "FDN52     1\n",
              "FDT35     1\n",
              "Name: Item_Identifier, Length: 1559, dtype: int64"
            ]
          },
          "metadata": {
            "tags": []
          },
          "execution_count": 48
        }
      ]
    },
    {
      "cell_type": "code",
      "metadata": {
        "id": "vAfP64J2zR-o"
      },
      "source": [
        "size = sales['Outlet_Size'].values\n",
        "item = sales['Item_Identifier'].values\n",
        "item_sale =  sales['Item_Outlet_Sales'].values\n",
        "sns.set_theme(style=\"darkgrid\")\n"
      ],
      "execution_count": null,
      "outputs": []
    },
    {
      "cell_type": "code",
      "metadata": {
        "colab": {
          "base_uri": "https://localhost:8080/"
        },
        "id": "oAiSJIL4Jihl",
        "outputId": "2c4fd752-3201-4362-9611-fc6f7f5ed6ec"
      },
      "source": [
        "sales['Outlet_Type'].value_counts()"
      ],
      "execution_count": null,
      "outputs": [
        {
          "output_type": "execute_result",
          "data": {
            "text/plain": [
              "Supermarket Type1    5577\n",
              "Grocery Store        1083\n",
              "Supermarket Type3     935\n",
              "Supermarket Type2     928\n",
              "Name: Outlet_Type, dtype: int64"
            ]
          },
          "metadata": {
            "tags": []
          },
          "execution_count": 50
        }
      ]
    },
    {
      "cell_type": "code",
      "metadata": {
        "colab": {
          "base_uri": "https://localhost:8080/",
          "height": 164
        },
        "id": "A3tB1IbcKE8o",
        "outputId": "578c7a64-1e39-4771-b9f2-07c7128a6b06"
      },
      "source": [
        "item1 = sales['Item_Identifier']== 'FDG33'\n",
        "item1_type1df = sales.loc[item1 & out_type1]\n",
        "item1_type2df = sales.loc[item1 & out_type2]\n",
        "item1_type3df = sales.loc[item1 & out_type3]\n",
        "item1_type4df = sales.loc[item1 & out_type4]\n",
        "item1_pricetype1 = item1_type1df['Item_Outlet_Sales'].values.sum()\n",
        "item1_pricetype2 = item1_type2df['Item_Outlet_Sales'].values.sum()\n",
        "item1_pricetype3 = item1_type3df['Item_Outlet_Sales'].values.sum()\n",
        "item1_pricetype4 = item1_type4df['Item_Outlet_Sales'].values.sum()\n",
        "item2 = sales['Item_Identifier']== 'NCI54'\n",
        "item2_type1df = sales.loc[item2 & out_type1]\n",
        "item2_type2df = sales.loc[item2 & out_type2]\n",
        "item2_type3df = sales.loc[item2 & out_type3]\n",
        "item2_type4df = sales.loc[item2 & out_type4]\n",
        "item2_pricetype1 = item2_type1df['Item_Outlet_Sales'].values.sum()\n",
        "item2_pricetype2 = item2_type2df['Item_Outlet_Sales'].values.sum()\n",
        "item2_pricetype3 = item2_type3df['Item_Outlet_Sales'].values.sum()\n",
        "item2_pricetype4 = item2_type4df['Item_Outlet_Sales'].values.sum()\n",
        "item3 = sales['Item_Identifier']== 'FDF52'\n",
        "item3_type1df = sales.loc[item3 & out_type1]\n",
        "item3_type2df = sales.loc[item3 & out_type2]\n",
        "item3_type3df = sales.loc[item3 & out_type3]\n",
        "item3_type4df = sales.loc[item3 & out_type4]\n",
        "item3_pricetype1 = item3_type1df['Item_Outlet_Sales'].values.sum()\n",
        "item3_pricetype2 = item3_type2df['Item_Outlet_Sales'].values.sum()\n",
        "item3_pricetype3 = item3_type3df['Item_Outlet_Sales'].values.sum()\n",
        "item3_pricetype4 = item3_type4df['Item_Outlet_Sales'].values.sum()\n",
        "item3_type4df"
      ],
      "execution_count": null,
      "outputs": [
        {
          "output_type": "execute_result",
          "data": {
            "text/html": [
              "<div>\n",
              "<style scoped>\n",
              "    .dataframe tbody tr th:only-of-type {\n",
              "        vertical-align: middle;\n",
              "    }\n",
              "\n",
              "    .dataframe tbody tr th {\n",
              "        vertical-align: top;\n",
              "    }\n",
              "\n",
              "    .dataframe thead th {\n",
              "        text-align: right;\n",
              "    }\n",
              "</style>\n",
              "<table border=\"1\" class=\"dataframe\">\n",
              "  <thead>\n",
              "    <tr style=\"text-align: right;\">\n",
              "      <th></th>\n",
              "      <th>Item_Identifier</th>\n",
              "      <th>Item_Weight</th>\n",
              "      <th>Item_Fat_Content</th>\n",
              "      <th>Item_Visibility</th>\n",
              "      <th>Item_Type</th>\n",
              "      <th>Item_MRP</th>\n",
              "      <th>Outlet_Identifier</th>\n",
              "      <th>Outlet_Establishment_Year</th>\n",
              "      <th>Outlet_Size</th>\n",
              "      <th>Outlet_Location_Type</th>\n",
              "      <th>Outlet_Type</th>\n",
              "      <th>Item_Outlet_Sales</th>\n",
              "    </tr>\n",
              "  </thead>\n",
              "  <tbody>\n",
              "    <tr>\n",
              "      <th>6002</th>\n",
              "      <td>FDF52</td>\n",
              "      <td>9.300000</td>\n",
              "      <td>Low Fat</td>\n",
              "      <td>0.111782</td>\n",
              "      <td>Frozen Foods</td>\n",
              "      <td>182.3292</td>\n",
              "      <td>OUT010</td>\n",
              "      <td>1998</td>\n",
              "      <td>High</td>\n",
              "      <td>Tier 3</td>\n",
              "      <td>Grocery Store</td>\n",
              "      <td>182.4292</td>\n",
              "    </tr>\n",
              "    <tr>\n",
              "      <th>8030</th>\n",
              "      <td>FDF52</td>\n",
              "      <td>12.857645</td>\n",
              "      <td>Low Fat</td>\n",
              "      <td>0.116929</td>\n",
              "      <td>Frozen Foods</td>\n",
              "      <td>183.3292</td>\n",
              "      <td>OUT019</td>\n",
              "      <td>1985</td>\n",
              "      <td>Small</td>\n",
              "      <td>Tier 1</td>\n",
              "      <td>Grocery Store</td>\n",
              "      <td>364.8584</td>\n",
              "    </tr>\n",
              "  </tbody>\n",
              "</table>\n",
              "</div>"
            ],
            "text/plain": [
              "     Item_Identifier  Item_Weight  ...    Outlet_Type  Item_Outlet_Sales\n",
              "6002           FDF52     9.300000  ...  Grocery Store           182.4292\n",
              "8030           FDF52    12.857645  ...  Grocery Store           364.8584\n",
              "\n",
              "[2 rows x 12 columns]"
            ]
          },
          "metadata": {
            "tags": []
          },
          "execution_count": 51
        }
      ]
    },
    {
      "cell_type": "code",
      "metadata": {
        "colab": {
          "base_uri": "https://localhost:8080/",
          "height": 379
        },
        "id": "8ZF3QAuB_q3U",
        "outputId": "1f725095-72da-4f58-de5d-4d50d92b31d0"
      },
      "source": [
        "#x = type, y = sales\n",
        "x_bar = ['Supermarket Type1','Supermarket Type2', 'Supermarket Type3', 'Grocery Store']\n",
        "y_bar1 = [item1_pricetype1, item1_pricetype2, item1_pricetype3, item1_pricetype4]\n",
        "y_bar2 = [item2_pricetype1, item2_pricetype2, item2_pricetype3, item2_pricetype4]\n",
        "y_bar3 = [item3_pricetype1, item3_pricetype2, item3_pricetype3, item3_pricetype4]\n",
        "positions = [0, 1, 2, 3]\n",
        "positions2 = [.3, 1.3, 2.3, 3.3]\n",
        "positions3 = [.6, 1.6, 2.6, 3.6]\n",
        "plt.rcParams['font.family'] = 'serif'\n",
        "plt.style.use('dark_background')\n",
        "plt.bar(positions, y_bar1, width= .3, color= 'Orange', label = 'Item FDG33')\n",
        "plt.bar(positions2, y_bar2, width= .3, color= 'Green', label = 'Item NCI54')\n",
        "plt.bar(positions3, y_bar3, width= .3, color= 'Blue', label = 'Item FDF52')\n",
        "plt.xticks(positions, x_bar, rotation = 45)\n",
        "plt.title('Items Sell more at Supermarket Type1',fontsize= 15)\n",
        "plt.ylabel('Sum of Sales in Dollars',fontsize= 15)\n",
        "plt.xlabel('Outlet Type',fontsize= 15)\n",
        "plt.grid(False)\n",
        "plt.legend()\n",
        "plt.savefig('SupermarketType1.png', dpi = 300)"
      ],
      "execution_count": null,
      "outputs": [
        {
          "output_type": "display_data",
          "data": {
            "image/png": "[encoded data removed]",
            "text/plain": [
              "<Figure size 432x288 with 1 Axes>"
            ]
          },
          "metadata": {
            "tags": []
          }
        }
      ]
    },
    {
      "cell_type": "code",
      "metadata": {
        "colab": {
          "base_uri": "https://localhost:8080/"
        },
        "id": "69GtMtuGC_R1",
        "outputId": "04408377-cad8-4826-b8f9-e3e8acb9b0fa"
      },
      "source": [
        "sales['Outlet_Establishment_Year'].value_counts()"
      ],
      "execution_count": null,
      "outputs": [
        {
          "output_type": "execute_result",
          "data": {
            "text/plain": [
              "1985    1463\n",
              "1987     932\n",
              "1999     930\n",
              "1997     930\n",
              "2004     930\n",
              "2002     929\n",
              "2009     928\n",
              "2007     926\n",
              "1998     555\n",
              "Name: Outlet_Establishment_Year, dtype: int64"
            ]
          },
          "metadata": {
            "tags": []
          },
          "execution_count": 53
        }
      ]
    },
    {
      "cell_type": "code",
      "metadata": {
        "colab": {
          "base_uri": "https://localhost:8080/"
        },
        "id": "xLTpMV5B0mJ1",
        "outputId": "0216496a-58aa-4590-cd06-c936747bcc15"
      },
      "source": [
        "grocery_filter = sales['Outlet_Type']=='Grocery Store'\n",
        "supermarkettype1_filter = sales['Outlet_Type']=='Supermarket Type1'\n",
        "supermarkettype2_filter = sales['Outlet_Type']=='Supermarket Type2'\n",
        "supermarkettype3_filter = sales['Outlet_Type']=='Supermarket Type3'\n",
        "year2009_filter = sales['Outlet_Establishment_Year']==2009\n",
        "year1999_filter = sales['Outlet_Establishment_Year']==1999\n",
        "year1998_filter = sales['Outlet_Establishment_Year']==1998\n",
        "year1997_filter = sales['Outlet_Establishment_Year']==1997\n",
        "year1985_filter = sales['Outlet_Establishment_Year']==1985\n",
        "year1987_filter = sales['Outlet_Establishment_Year']==1987\n",
        "year2004_filter = sales['Outlet_Establishment_Year']==2004\n",
        "year2002_filter = sales['Outlet_Establishment_Year']==2002\n",
        "year2007_filter = sales['Outlet_Establishment_Year']==2007\n",
        "grocerydf = sales.loc[grocery_filter,:]\n",
        "supermarkettype1df2007 = sales[supermarkettype1_filter & year2007_filter]\n",
        "supermarkettype1df1987 = sales[supermarkettype1_filter & year1987_filter]\n",
        "supermarkettype1df1999 = sales[supermarkettype1_filter & year1999_filter]\n",
        "supermarkettype1df2004 = sales[supermarkettype1_filter & year2004_filter]\n",
        "supermarkettype1df2002 = sales[supermarkettype1_filter & year2002_filter]\n",
        "supermarkettype1df1997 = sales[supermarkettype1_filter & year1997_filter]\n",
        "supermarkettype1df = sales.loc[supermarkettype1_filter,:]\n",
        "supermarkettype2df2009 = sales[supermarkettype2_filter & year2009_filter]\n",
        "supermarkettype2df = sales.loc[supermarkettype2_filter,:]\n",
        "supermarkettype3df1985 = sales[supermarkettype3_filter & year1985_filter]\n",
        "supermarkettype3df = sales.loc[supermarkettype3_filter,:]\n",
        "#supermarkettype1df['Outlet_Establishment_Year'].value_counts()\n",
        "#1987 1999 1997 2004 2002 2007\n",
        "supermarkettype1sales1987 = supermarkettype1df1987['Item_Outlet_Sales'].values.sum()\n",
        "supermarkettype1sales1999 = supermarkettype1df1999['Item_Outlet_Sales'].values.sum()\n",
        "supermarkettype1sales2007 = supermarkettype1df2007['Item_Outlet_Sales'].values.sum()\n",
        "supermarkettype1sales2004 = supermarkettype1df2004['Item_Outlet_Sales'].values.sum()\n",
        "supermarkettype1sales2002 = supermarkettype1df2002['Item_Outlet_Sales'].values.sum()\n",
        "supermarkettype1sales1997 = supermarkettype1df1997['Item_Outlet_Sales'].values.sum()\n",
        "supermarkettype2sales2009 = supermarkettype2df2009['Item_Outlet_Sales'].values.sum()\n",
        "supermarkettype3sales1985 = supermarkettype3df1985['Item_Outlet_Sales'].values.sum()\n",
        "grocerydf['Outlet_Establishment_Year'].value_counts()\n"
      ],
      "execution_count": null,
      "outputs": [
        {
          "output_type": "execute_result",
          "data": {
            "text/plain": [
              "1998    555\n",
              "1985    528\n",
              "Name: Outlet_Establishment_Year, dtype: int64"
            ]
          },
          "metadata": {
            "tags": []
          },
          "execution_count": 54
        }
      ]
    },
    {
      "cell_type": "code",
      "metadata": {
        "colab": {
          "base_uri": "https://localhost:8080/",
          "height": 318
        },
        "id": "8BHhVf0G1tjK",
        "outputId": "3b3e441e-5f2e-45d5-aae8-fc3516a22f05"
      },
      "source": [
        "# OUT010, OUT019 only grocery stores type3 85, type2 09, type1 87,97,99,04,02,07, grocery 98, 85\n",
        "grocerydf1998 = grocerydf.loc[year1998_filter,:]\n",
        "grocerydf1985 = grocerydf.loc[year1985_filter,:]\n",
        "grocery1985sales = grocerydf1985['Item_Outlet_Sales'].values.sum()\n",
        "grocery1998sales = grocerydf1998['Item_Outlet_Sales'].values.sum()\n",
        "#out019_filter = sales['Outlet_Identifier']=='OUT019'\n",
        "#out019df = sales.loc[out019_filter,:]\n",
        "#out019df['Outlet_Establishment_Year'].value_counts()\n",
        "x1 = [1985, 1987, 1997, 1998, 1999, 2002, 2004, 2007, 2009]\n",
        "#yo= [  0   , 1   , 2  ,  3  ,  4  ,  5  ,  6  ,  7  ,  8]\n",
        "#positions = [1, 2, 4, 5, 6, 7]\n",
        "#positions2 = [8]\n",
        "#positions3 = [0]\n",
        "#positions4 = [.3,3]\n",
        "positions = [1987, 1997, 1999, 2002, 2004, 2007]\n",
        "positions2 = [2009]\n",
        "positions3 = [1985]\n",
        "positions4 = [1985.7,1998]\n",
        "y1 = [supermarkettype1sales1987, supermarkettype1sales1999, supermarkettype1sales2007, supermarkettype1sales2002,\n",
        "      supermarkettype1sales2004, supermarkettype1sales1997]\n",
        "y2 = [supermarkettype2sales2009]\n",
        "y3 = [supermarkettype3sales1985]\n",
        "y4 = [grocery1985sales, grocery1998sales]\n",
        "plt.bar(positions, y1, label = 'SuperMarket Type1')\n",
        "plt.bar(positions2, y2, label = 'SuperMarket Type2')\n",
        "plt.bar(positions3, y3, label = 'SuperMarket Type3')\n",
        "plt.bar(positions4, y4,label = 'Grocery Store')\n",
        "plt.xticks( rotation=45)\n",
        "plt.ylabel('Total Sales in Millions')\n",
        "plt.xlabel(\"Years\")\n",
        "plt.title('Total Sales by Market Type Over the Years')\n",
        "plt.legend()\n",
        "plt.grid(False)"
      ],
      "execution_count": null,
      "outputs": [
        {
          "output_type": "display_data",
          "data": {
            "image/png": "[encoded data removed]",
            "text/plain": [
              "<Figure size 432x288 with 1 Axes>"
            ]
          },
          "metadata": {
            "tags": []
          }
        }
      ]
    },
    {
      "cell_type": "code",
      "metadata": {
        "colab": {
          "base_uri": "https://localhost:8080/",
          "height": 307
        },
        "id": "xQ2sdLI_5jDW",
        "outputId": "e86ea005-213d-43bc-d0a5-d901f198c5ef"
      },
      "source": [
        "sales.head()"
      ],
      "execution_count": null,
      "outputs": [
        {
          "output_type": "execute_result",
          "data": {
            "text/html": [
              "<div>\n",
              "<style scoped>\n",
              "    .dataframe tbody tr th:only-of-type {\n",
              "        vertical-align: middle;\n",
              "    }\n",
              "\n",
              "    .dataframe tbody tr th {\n",
              "        vertical-align: top;\n",
              "    }\n",
              "\n",
              "    .dataframe thead th {\n",
              "        text-align: right;\n",
              "    }\n",
              "</style>\n",
              "<table border=\"1\" class=\"dataframe\">\n",
              "  <thead>\n",
              "    <tr style=\"text-align: right;\">\n",
              "      <th></th>\n",
              "      <th>Item_Identifier</th>\n",
              "      <th>Item_Weight</th>\n",
              "      <th>Item_Fat_Content</th>\n",
              "      <th>Item_Visibility</th>\n",
              "      <th>Item_Type</th>\n",
              "      <th>Item_MRP</th>\n",
              "      <th>Outlet_Identifier</th>\n",
              "      <th>Outlet_Establishment_Year</th>\n",
              "      <th>Outlet_Size</th>\n",
              "      <th>Outlet_Location_Type</th>\n",
              "      <th>Outlet_Type</th>\n",
              "      <th>Item_Outlet_Sales</th>\n",
              "    </tr>\n",
              "  </thead>\n",
              "  <tbody>\n",
              "    <tr>\n",
              "      <th>0</th>\n",
              "      <td>FDA15</td>\n",
              "      <td>9.30</td>\n",
              "      <td>Low Fat</td>\n",
              "      <td>0.016047</td>\n",
              "      <td>Dairy</td>\n",
              "      <td>249.8092</td>\n",
              "      <td>OUT049</td>\n",
              "      <td>1999</td>\n",
              "      <td>Medium</td>\n",
              "      <td>Tier 1</td>\n",
              "      <td>Supermarket Type1</td>\n",
              "      <td>3735.1380</td>\n",
              "    </tr>\n",
              "    <tr>\n",
              "      <th>1</th>\n",
              "      <td>DRC01</td>\n",
              "      <td>5.92</td>\n",
              "      <td>Regular</td>\n",
              "      <td>0.019278</td>\n",
              "      <td>Soft Drinks</td>\n",
              "      <td>48.2692</td>\n",
              "      <td>OUT018</td>\n",
              "      <td>2009</td>\n",
              "      <td>Medium</td>\n",
              "      <td>Tier 3</td>\n",
              "      <td>Supermarket Type2</td>\n",
              "      <td>443.4228</td>\n",
              "    </tr>\n",
              "    <tr>\n",
              "      <th>2</th>\n",
              "      <td>FDN15</td>\n",
              "      <td>17.50</td>\n",
              "      <td>Low Fat</td>\n",
              "      <td>0.016760</td>\n",
              "      <td>Meat</td>\n",
              "      <td>141.6180</td>\n",
              "      <td>OUT049</td>\n",
              "      <td>1999</td>\n",
              "      <td>Medium</td>\n",
              "      <td>Tier 1</td>\n",
              "      <td>Supermarket Type1</td>\n",
              "      <td>2097.2700</td>\n",
              "    </tr>\n",
              "    <tr>\n",
              "      <th>3</th>\n",
              "      <td>FDX07</td>\n",
              "      <td>19.20</td>\n",
              "      <td>Regular</td>\n",
              "      <td>0.000000</td>\n",
              "      <td>Fruits and Vegetables</td>\n",
              "      <td>182.0950</td>\n",
              "      <td>OUT010</td>\n",
              "      <td>1998</td>\n",
              "      <td>High</td>\n",
              "      <td>Tier 3</td>\n",
              "      <td>Grocery Store</td>\n",
              "      <td>732.3800</td>\n",
              "    </tr>\n",
              "    <tr>\n",
              "      <th>4</th>\n",
              "      <td>NCD19</td>\n",
              "      <td>8.93</td>\n",
              "      <td>Low Fat</td>\n",
              "      <td>0.000000</td>\n",
              "      <td>Household</td>\n",
              "      <td>53.8614</td>\n",
              "      <td>OUT013</td>\n",
              "      <td>1987</td>\n",
              "      <td>High</td>\n",
              "      <td>Tier 3</td>\n",
              "      <td>Supermarket Type1</td>\n",
              "      <td>994.7052</td>\n",
              "    </tr>\n",
              "  </tbody>\n",
              "</table>\n",
              "</div>"
            ],
            "text/plain": [
              "  Item_Identifier  Item_Weight  ...        Outlet_Type  Item_Outlet_Sales\n",
              "0           FDA15         9.30  ...  Supermarket Type1          3735.1380\n",
              "1           DRC01         5.92  ...  Supermarket Type2           443.4228\n",
              "2           FDN15        17.50  ...  Supermarket Type1          2097.2700\n",
              "3           FDX07        19.20  ...      Grocery Store           732.3800\n",
              "4           NCD19         8.93  ...  Supermarket Type1           994.7052\n",
              "\n",
              "[5 rows x 12 columns]"
            ]
          },
          "metadata": {
            "tags": []
          },
          "execution_count": 58
        }
      ]
    },
    {
      "cell_type": "code",
      "metadata": {
        "colab": {
          "base_uri": "https://localhost:8080/",
          "height": 371
        },
        "id": "BUuiuqgw5pp-",
        "outputId": "165ad4a7-987a-4161-ca1e-8534c7f93d82"
      },
      "source": [
        "sns.distplot(supermarkettype1df1987['Item_Outlet_Sales'], kde=False, label= 'Supermarket Type1 1987', color='blue')\n",
        "sns.distplot(supermarkettype1df2007['Item_Outlet_Sales'], kde=False, label= 'Supermarket Type1 2007', color='yellow')\n",
        "\n",
        "sns.choose_light_palette\n",
        "plt.xlabel('Item Sales per Outlet')\n",
        "plt.ylabel(\"Items Count\")\n",
        "plt.title('Supermarket Type1 Item Sales in Established Year vs Latest Year')"
      ],
      "execution_count": null,
      "outputs": [
        {
          "output_type": "stream",
          "text": [
            "/usr/local/lib/python3.7/dist-packages/seaborn/distributions.py:2557: FutureWarning: `distplot` is a deprecated function and will be removed in a future version. Please adapt your code to use either `displot` (a figure-level function with similar flexibility) or `histplot` (an axes-level function for histograms).\n",
            "  warnings.warn(msg, FutureWarning)\n"
          ],
          "name": "stderr"
        },
        {
          "output_type": "execute_result",
          "data": {
            "text/plain": [
              "Text(0.5, 1.0, 'Supermarket Type1 Item Sales in Established Year vs Latest Year')"
            ]
          },
          "metadata": {
            "tags": []
          },
          "execution_count": 88
        },
        {
          "output_type": "display_data",
          "data": {
            "image/png": "[encoded data removed]",
            "text/plain": [
              "<Figure size 432x288 with 1 Axes>"
            ]
          },
          "metadata": {
            "tags": []
          }
        }
      ]
    },
    {
      "cell_type": "code",
      "metadata": {
        "colab": {
          "base_uri": "https://localhost:8080/",
          "height": 371
        },
        "id": "KIvpZenN7AkG",
        "outputId": "71334fe6-0cee-4bf3-8940-bb368be821e7"
      },
      "source": [
        "sns.distplot(supermarkettype2df2009['Item_Outlet_Sales'], kde=False, label= 'Supermarket Type2 Item Sales', color='green')\n",
        "plt.xlabel('Item Sales per Outlet')\n",
        "plt.ylabel(\"Items Count\")\n",
        "plt.title('Supermarket Type2 Item Sales in Established Year')"
      ],
      "execution_count": null,
      "outputs": [
        {
          "output_type": "stream",
          "text": [
            "/usr/local/lib/python3.7/dist-packages/seaborn/distributions.py:2557: FutureWarning: `distplot` is a deprecated function and will be removed in a future version. Please adapt your code to use either `displot` (a figure-level function with similar flexibility) or `histplot` (an axes-level function for histograms).\n",
            "  warnings.warn(msg, FutureWarning)\n"
          ],
          "name": "stderr"
        },
        {
          "output_type": "execute_result",
          "data": {
            "text/plain": [
              "Text(0.5, 1.0, 'Supermarket Type2 Item Sales in Established Year')"
            ]
          },
          "metadata": {
            "tags": []
          },
          "execution_count": 90
        },
        {
          "output_type": "display_data",
          "data": {
            "image/png": "[encoded data removed]",
            "text/plain": [
              "<Figure size 432x288 with 1 Axes>"
            ]
          },
          "metadata": {
            "tags": []
          }
        }
      ]
    },
    {
      "cell_type": "code",
      "metadata": {
        "colab": {
          "base_uri": "https://localhost:8080/",
          "height": 371
        },
        "id": "FfIB1JQm90wJ",
        "outputId": "acd06cd1-1fbe-49e1-8bd4-095d5ea7e1fa"
      },
      "source": [
        "sns.distplot(supermarkettype3df1985['Item_Outlet_Sales'], kde=False, label= 'Supermarket Type3 1985', color='orange')\n",
        "plt.xlabel('Item Sales per Outlet')\n",
        "plt.ylabel(\"Items Count\")\n",
        "plt.title('Supermarket Type3 Item Sales in Established')"
      ],
      "execution_count": null,
      "outputs": [
        {
          "output_type": "stream",
          "text": [
            "/usr/local/lib/python3.7/dist-packages/seaborn/distributions.py:2557: FutureWarning: `distplot` is a deprecated function and will be removed in a future version. Please adapt your code to use either `displot` (a figure-level function with similar flexibility) or `histplot` (an axes-level function for histograms).\n",
            "  warnings.warn(msg, FutureWarning)\n"
          ],
          "name": "stderr"
        },
        {
          "output_type": "execute_result",
          "data": {
            "text/plain": [
              "Text(0.5, 1.0, 'Supermarket Type3 Item Sales in Established')"
            ]
          },
          "metadata": {
            "tags": []
          },
          "execution_count": 91
        },
        {
          "output_type": "display_data",
          "data": {
            "image/png": "[encoded data removed]",
            "text/plain": [
              "<Figure size 432x288 with 1 Axes>"
            ]
          },
          "metadata": {
            "tags": []
          }
        }
      ]
    },
    {
      "cell_type": "code",
      "metadata": {
        "colab": {
          "base_uri": "https://localhost:8080/",
          "height": 371
        },
        "id": "57t6FtX3-z7G",
        "outputId": "aee60af6-e7fc-4fd5-9b6f-8ba61c24d74b"
      },
      "source": [
        "sns.distplot(grocerydf1985['Item_Outlet_Sales'], kde=False, label= 'Grocery Market 1985', color='purple')\n",
        "sns.distplot(grocerydf1998['Item_Outlet_Sales'], kde=False, label= 'Grocery Market 1998', color='green')\n",
        "plt.xlabel('Item Sales per Outlet')\n",
        "plt.ylabel(\"Items Count\")\n",
        "plt.title('Grocery Market Item Sales in Established Year vs Latest Year')"
      ],
      "execution_count": null,
      "outputs": [
        {
          "output_type": "stream",
          "text": [
            "/usr/local/lib/python3.7/dist-packages/seaborn/distributions.py:2557: FutureWarning: `distplot` is a deprecated function and will be removed in a future version. Please adapt your code to use either `displot` (a figure-level function with similar flexibility) or `histplot` (an axes-level function for histograms).\n",
            "  warnings.warn(msg, FutureWarning)\n"
          ],
          "name": "stderr"
        },
        {
          "output_type": "execute_result",
          "data": {
            "text/plain": [
              "Text(0.5, 1.0, 'Grocery Market Item Sales in Established Year vs Latest Year')"
            ]
          },
          "metadata": {
            "tags": []
          },
          "execution_count": 92
        },
        {
          "output_type": "display_data",
          "data": {
            "image/png": "[encoded data removed]",
            "text/plain": [
              "<Figure size 432x288 with 1 Axes>"
            ]
          },
          "metadata": {
            "tags": []
          }
        }
      ]
    },
    {
      "cell_type": "code",
      "metadata": {
        "id": "BrNjOh9o--5Z"
      },
      "source": [
        ""
      ],
      "execution_count": null,
      "outputs": []
    }
  ]
}