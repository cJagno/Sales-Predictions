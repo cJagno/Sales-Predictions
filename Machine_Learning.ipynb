{
  "nbformat": 4,
  "nbformat_minor": 0,
  "metadata": {
    "colab": {
      "name": "Machine_Learning.ipynb",
      "provenance": [],
      "collapsed_sections": [],
      "authorship_tag": "ABX9TyM52vAZsEmgR/BjL5wMzz6U",
      "include_colab_link": true
    },
    "kernelspec": {
      "name": "python3",
      "display_name": "Python 3"
    },
    "language_info": {
      "name": "python"
    }
  },
  "cells": [
    {
      "cell_type": "markdown",
      "metadata": {
        "id": "view-in-github",
        "colab_type": "text"
      },
      "source": [
        "<a href=\"https://colab.research.google.com/github/cJagno/Sales-Predictions/blob/main/Machine_Learning.ipynb\" target=\"_parent\"><img src=\"https://colab.research.google.com/assets/colab-badge.svg\" alt=\"Open In Colab\"/></a>"
      ]
    },
    {
      "cell_type": "markdown",
      "metadata": {
        "id": "f_dIJSQMCU4P"
      },
      "source": [
        "Data Cleaning"
      ]
    },
    {
      "cell_type": "code",
      "metadata": {
        "colab": {
          "base_uri": "https://localhost:8080/"
        },
        "id": "_7PnVoktCPUG",
        "outputId": "eb45b138-4776-4280-c18c-cb453dd72d94"
      },
      "source": [
        "from google.colab import drive\n",
        "drive.mount ('/content/drive')"
      ],
      "execution_count": 2,
      "outputs": [
        {
          "output_type": "stream",
          "text": [
            "Mounted at /content/drive\n"
          ],
          "name": "stdout"
        }
      ]
    },
    {
      "cell_type": "code",
      "metadata": {
        "id": "limdMe2lDqAd"
      },
      "source": [
        "import pandas as pd\n",
        "import numpy as np\n",
        "import matplotlib.pyplot as plt\n",
        "import seaborn as sns\n",
        "from sklearn.linear_model import LogisticRegression\n",
        "from sklearn.model_selection import train_test_split\n",
        "from sklearn.preprocessing import StandardScaler\n",
        "from sklearn.metrics import confusion_matrix\n",
        "from sklearn.metrics import plot_confusion_matrix\n",
        "from sklearn.neighbors import KNeighborsRegressor\n",
        "from sklearn.neighbors import KNeighborsClassifier\n",
        "from sklearn.linear_model import LinearRegression"
      ],
      "execution_count": 3,
      "outputs": []
    },
    {
      "cell_type": "code",
      "metadata": {
        "id": "RMlOn3wKDuew"
      },
      "source": [
        "sales = pd.read_csv('/content/drive/MyDrive/PT_Data_Science/PandasForDataManipulation/sales_predictions.csv')"
      ],
      "execution_count": 4,
      "outputs": []
    },
    {
      "cell_type": "code",
      "metadata": {
        "colab": {
          "base_uri": "https://localhost:8080/",
          "height": 307
        },
        "id": "cwQQSOcZD7lF",
        "outputId": "c05f2f7e-8201-41e9-ebb1-d4261234335d"
      },
      "source": [
        "sales.head()"
      ],
      "execution_count": 5,
      "outputs": [
        {
          "output_type": "execute_result",
          "data": {
            "text/html": [
              "<div>\n",
              "<style scoped>\n",
              "    .dataframe tbody tr th:only-of-type {\n",
              "        vertical-align: middle;\n",
              "    }\n",
              "\n",
              "    .dataframe tbody tr th {\n",
              "        vertical-align: top;\n",
              "    }\n",
              "\n",
              "    .dataframe thead th {\n",
              "        text-align: right;\n",
              "    }\n",
              "</style>\n",
              "<table border=\"1\" class=\"dataframe\">\n",
              "  <thead>\n",
              "    <tr style=\"text-align: right;\">\n",
              "      <th></th>\n",
              "      <th>Item_Identifier</th>\n",
              "      <th>Item_Weight</th>\n",
              "      <th>Item_Fat_Content</th>\n",
              "      <th>Item_Visibility</th>\n",
              "      <th>Item_Type</th>\n",
              "      <th>Item_MRP</th>\n",
              "      <th>Outlet_Identifier</th>\n",
              "      <th>Outlet_Establishment_Year</th>\n",
              "      <th>Outlet_Size</th>\n",
              "      <th>Outlet_Location_Type</th>\n",
              "      <th>Outlet_Type</th>\n",
              "      <th>Item_Outlet_Sales</th>\n",
              "    </tr>\n",
              "  </thead>\n",
              "  <tbody>\n",
              "    <tr>\n",
              "      <th>0</th>\n",
              "      <td>FDA15</td>\n",
              "      <td>9.30</td>\n",
              "      <td>Low Fat</td>\n",
              "      <td>0.016047</td>\n",
              "      <td>Dairy</td>\n",
              "      <td>249.8092</td>\n",
              "      <td>OUT049</td>\n",
              "      <td>1999</td>\n",
              "      <td>Medium</td>\n",
              "      <td>Tier 1</td>\n",
              "      <td>Supermarket Type1</td>\n",
              "      <td>3735.1380</td>\n",
              "    </tr>\n",
              "    <tr>\n",
              "      <th>1</th>\n",
              "      <td>DRC01</td>\n",
              "      <td>5.92</td>\n",
              "      <td>Regular</td>\n",
              "      <td>0.019278</td>\n",
              "      <td>Soft Drinks</td>\n",
              "      <td>48.2692</td>\n",
              "      <td>OUT018</td>\n",
              "      <td>2009</td>\n",
              "      <td>Medium</td>\n",
              "      <td>Tier 3</td>\n",
              "      <td>Supermarket Type2</td>\n",
              "      <td>443.4228</td>\n",
              "    </tr>\n",
              "    <tr>\n",
              "      <th>2</th>\n",
              "      <td>FDN15</td>\n",
              "      <td>17.50</td>\n",
              "      <td>Low Fat</td>\n",
              "      <td>0.016760</td>\n",
              "      <td>Meat</td>\n",
              "      <td>141.6180</td>\n",
              "      <td>OUT049</td>\n",
              "      <td>1999</td>\n",
              "      <td>Medium</td>\n",
              "      <td>Tier 1</td>\n",
              "      <td>Supermarket Type1</td>\n",
              "      <td>2097.2700</td>\n",
              "    </tr>\n",
              "    <tr>\n",
              "      <th>3</th>\n",
              "      <td>FDX07</td>\n",
              "      <td>19.20</td>\n",
              "      <td>Regular</td>\n",
              "      <td>0.000000</td>\n",
              "      <td>Fruits and Vegetables</td>\n",
              "      <td>182.0950</td>\n",
              "      <td>OUT010</td>\n",
              "      <td>1998</td>\n",
              "      <td>NaN</td>\n",
              "      <td>Tier 3</td>\n",
              "      <td>Grocery Store</td>\n",
              "      <td>732.3800</td>\n",
              "    </tr>\n",
              "    <tr>\n",
              "      <th>4</th>\n",
              "      <td>NCD19</td>\n",
              "      <td>8.93</td>\n",
              "      <td>Low Fat</td>\n",
              "      <td>0.000000</td>\n",
              "      <td>Household</td>\n",
              "      <td>53.8614</td>\n",
              "      <td>OUT013</td>\n",
              "      <td>1987</td>\n",
              "      <td>High</td>\n",
              "      <td>Tier 3</td>\n",
              "      <td>Supermarket Type1</td>\n",
              "      <td>994.7052</td>\n",
              "    </tr>\n",
              "  </tbody>\n",
              "</table>\n",
              "</div>"
            ],
            "text/plain": [
              "  Item_Identifier  Item_Weight  ...        Outlet_Type  Item_Outlet_Sales\n",
              "0           FDA15         9.30  ...  Supermarket Type1          3735.1380\n",
              "1           DRC01         5.92  ...  Supermarket Type2           443.4228\n",
              "2           FDN15        17.50  ...  Supermarket Type1          2097.2700\n",
              "3           FDX07        19.20  ...      Grocery Store           732.3800\n",
              "4           NCD19         8.93  ...  Supermarket Type1           994.7052\n",
              "\n",
              "[5 rows x 12 columns]"
            ]
          },
          "metadata": {
            "tags": []
          },
          "execution_count": 5
        }
      ]
    },
    {
      "cell_type": "code",
      "metadata": {
        "colab": {
          "base_uri": "https://localhost:8080/"
        },
        "id": "jzkhNoA3D9Ol",
        "outputId": "7750dfa6-3e49-4ed3-9eaf-be4e2c2101fc"
      },
      "source": [
        "sales.info()"
      ],
      "execution_count": 6,
      "outputs": [
        {
          "output_type": "stream",
          "text": [
            "<class 'pandas.core.frame.DataFrame'>\n",
            "RangeIndex: 8523 entries, 0 to 8522\n",
            "Data columns (total 12 columns):\n",
            " #   Column                     Non-Null Count  Dtype  \n",
            "---  ------                     --------------  -----  \n",
            " 0   Item_Identifier            8523 non-null   object \n",
            " 1   Item_Weight                7060 non-null   float64\n",
            " 2   Item_Fat_Content           8523 non-null   object \n",
            " 3   Item_Visibility            8523 non-null   float64\n",
            " 4   Item_Type                  8523 non-null   object \n",
            " 5   Item_MRP                   8523 non-null   float64\n",
            " 6   Outlet_Identifier          8523 non-null   object \n",
            " 7   Outlet_Establishment_Year  8523 non-null   int64  \n",
            " 8   Outlet_Size                6113 non-null   object \n",
            " 9   Outlet_Location_Type       8523 non-null   object \n",
            " 10  Outlet_Type                8523 non-null   object \n",
            " 11  Item_Outlet_Sales          8523 non-null   float64\n",
            "dtypes: float64(4), int64(1), object(7)\n",
            "memory usage: 799.2+ KB\n"
          ],
          "name": "stdout"
        }
      ]
    },
    {
      "cell_type": "code",
      "metadata": {
        "id": "zWCdwvmsEEp3"
      },
      "source": [
        "#sales['Item_Identifier'].value_counts()"
      ],
      "execution_count": 7,
      "outputs": []
    },
    {
      "cell_type": "code",
      "metadata": {
        "id": "yIvHNz3JKTEm"
      },
      "source": [
        "#sales['Item_Identifier']\n"
      ],
      "execution_count": 8,
      "outputs": []
    },
    {
      "cell_type": "code",
      "metadata": {
        "colab": {
          "base_uri": "https://localhost:8080/"
        },
        "id": "kYDFw_3QESlf",
        "outputId": "294992c7-3184-4d2f-9c3b-637814aa9f10"
      },
      "source": [
        "sales.shape"
      ],
      "execution_count": 9,
      "outputs": [
        {
          "output_type": "execute_result",
          "data": {
            "text/plain": [
              "(8523, 12)"
            ]
          },
          "metadata": {
            "tags": []
          },
          "execution_count": 9
        }
      ]
    },
    {
      "cell_type": "code",
      "metadata": {
        "id": "Hdi7wFWRF5ni"
      },
      "source": [
        "out_ident = sales['Outlet_Identifier']== 'OUT045'\n",
        "out_ident2 = sales['Outlet_Identifier']== 'OUT010'\n",
        "out_loc3 = sales['Outlet_Location_Type']== 'Tier 3'\n",
        "out_loc2 = sales['Outlet_Location_Type']== 'Tier 2'\n",
        "out_loc1 = sales['Outlet_Location_Type']== 'Tier 1'\n",
        "out_type1 = sales['Outlet_Type']== 'Supermarket Type1'\n",
        "out_type2 = sales['Outlet_Type']== 'Supermarket Type2'\n",
        "out_type3 = sales['Outlet_Type']== 'Supermarket Type3'\n",
        "out_type4 = sales['Outlet_Type']== 'Grocery Store'\n"
      ],
      "execution_count": 10,
      "outputs": []
    },
    {
      "cell_type": "code",
      "metadata": {
        "colab": {
          "base_uri": "https://localhost:8080/"
        },
        "id": "5pRlX5bfQUwQ",
        "outputId": "ae3a3368-b65e-4c7f-ac8b-0aef650d7057"
      },
      "source": [
        "#Supermarket Type2 and Type3 = medium Grocery Store = small\n",
        "sales[out_type1].value_counts('Outlet_Size')"
      ],
      "execution_count": 11,
      "outputs": [
        {
          "output_type": "execute_result",
          "data": {
            "text/plain": [
              "Outlet_Size\n",
              "Small     1860\n",
              "High       932\n",
              "Medium     930\n",
              "dtype: int64"
            ]
          },
          "metadata": {
            "tags": []
          },
          "execution_count": 11
        }
      ]
    },
    {
      "cell_type": "code",
      "metadata": {
        "colab": {
          "base_uri": "https://localhost:8080/"
        },
        "id": "K1t2VbR5Pdu1",
        "outputId": "c0ee37b3-bda5-4bad-b38a-f11bcedad434"
      },
      "source": [
        "sales[out_loc3].value_counts('Outlet_Size')"
      ],
      "execution_count": 12,
      "outputs": [
        {
          "output_type": "execute_result",
          "data": {
            "text/plain": [
              "Outlet_Size\n",
              "Medium    1863\n",
              "High       932\n",
              "dtype: int64"
            ]
          },
          "metadata": {
            "tags": []
          },
          "execution_count": 12
        }
      ]
    },
    {
      "cell_type": "code",
      "metadata": {
        "colab": {
          "base_uri": "https://localhost:8080/"
        },
        "id": "D5qiK4fuI1rK",
        "outputId": "f196becd-d5d7-45b2-9478-f0c472cffc5d"
      },
      "source": [
        "sales[out_ident].shape"
      ],
      "execution_count": 13,
      "outputs": [
        {
          "output_type": "execute_result",
          "data": {
            "text/plain": [
              "(929, 12)"
            ]
          },
          "metadata": {
            "tags": []
          },
          "execution_count": 13
        }
      ]
    },
    {
      "cell_type": "code",
      "metadata": {
        "colab": {
          "base_uri": "https://localhost:8080/",
          "height": 307
        },
        "id": "EHz_B26HJOCl",
        "outputId": "72c43fff-96ea-4097-83b8-10ede94c8f84"
      },
      "source": [
        "sales[out_ident].head()"
      ],
      "execution_count": 14,
      "outputs": [
        {
          "output_type": "execute_result",
          "data": {
            "text/html": [
              "<div>\n",
              "<style scoped>\n",
              "    .dataframe tbody tr th:only-of-type {\n",
              "        vertical-align: middle;\n",
              "    }\n",
              "\n",
              "    .dataframe tbody tr th {\n",
              "        vertical-align: top;\n",
              "    }\n",
              "\n",
              "    .dataframe thead th {\n",
              "        text-align: right;\n",
              "    }\n",
              "</style>\n",
              "<table border=\"1\" class=\"dataframe\">\n",
              "  <thead>\n",
              "    <tr style=\"text-align: right;\">\n",
              "      <th></th>\n",
              "      <th>Item_Identifier</th>\n",
              "      <th>Item_Weight</th>\n",
              "      <th>Item_Fat_Content</th>\n",
              "      <th>Item_Visibility</th>\n",
              "      <th>Item_Type</th>\n",
              "      <th>Item_MRP</th>\n",
              "      <th>Outlet_Identifier</th>\n",
              "      <th>Outlet_Establishment_Year</th>\n",
              "      <th>Outlet_Size</th>\n",
              "      <th>Outlet_Location_Type</th>\n",
              "      <th>Outlet_Type</th>\n",
              "      <th>Item_Outlet_Sales</th>\n",
              "    </tr>\n",
              "  </thead>\n",
              "  <tbody>\n",
              "    <tr>\n",
              "      <th>8</th>\n",
              "      <td>FDH17</td>\n",
              "      <td>16.200</td>\n",
              "      <td>Regular</td>\n",
              "      <td>0.016687</td>\n",
              "      <td>Frozen Foods</td>\n",
              "      <td>96.9726</td>\n",
              "      <td>OUT045</td>\n",
              "      <td>2002</td>\n",
              "      <td>NaN</td>\n",
              "      <td>Tier 2</td>\n",
              "      <td>Supermarket Type1</td>\n",
              "      <td>1076.5986</td>\n",
              "    </tr>\n",
              "    <tr>\n",
              "      <th>33</th>\n",
              "      <td>FDO23</td>\n",
              "      <td>17.850</td>\n",
              "      <td>Low Fat</td>\n",
              "      <td>0.000000</td>\n",
              "      <td>Breads</td>\n",
              "      <td>93.1436</td>\n",
              "      <td>OUT045</td>\n",
              "      <td>2002</td>\n",
              "      <td>NaN</td>\n",
              "      <td>Tier 2</td>\n",
              "      <td>Supermarket Type1</td>\n",
              "      <td>2174.5028</td>\n",
              "    </tr>\n",
              "    <tr>\n",
              "      <th>46</th>\n",
              "      <td>NCP05</td>\n",
              "      <td>19.600</td>\n",
              "      <td>Low Fat</td>\n",
              "      <td>0.000000</td>\n",
              "      <td>Health and Hygiene</td>\n",
              "      <td>153.3024</td>\n",
              "      <td>OUT045</td>\n",
              "      <td>2002</td>\n",
              "      <td>NaN</td>\n",
              "      <td>Tier 2</td>\n",
              "      <td>Supermarket Type1</td>\n",
              "      <td>2428.8384</td>\n",
              "    </tr>\n",
              "    <tr>\n",
              "      <th>47</th>\n",
              "      <td>FDV49</td>\n",
              "      <td>10.000</td>\n",
              "      <td>Low Fat</td>\n",
              "      <td>0.025880</td>\n",
              "      <td>Canned</td>\n",
              "      <td>265.2226</td>\n",
              "      <td>OUT045</td>\n",
              "      <td>2002</td>\n",
              "      <td>NaN</td>\n",
              "      <td>Tier 2</td>\n",
              "      <td>Supermarket Type1</td>\n",
              "      <td>5815.0972</td>\n",
              "    </tr>\n",
              "    <tr>\n",
              "      <th>56</th>\n",
              "      <td>NCX54</td>\n",
              "      <td>9.195</td>\n",
              "      <td>Low Fat</td>\n",
              "      <td>0.048157</td>\n",
              "      <td>Household</td>\n",
              "      <td>106.1622</td>\n",
              "      <td>OUT045</td>\n",
              "      <td>2002</td>\n",
              "      <td>NaN</td>\n",
              "      <td>Tier 2</td>\n",
              "      <td>Supermarket Type1</td>\n",
              "      <td>2117.2440</td>\n",
              "    </tr>\n",
              "  </tbody>\n",
              "</table>\n",
              "</div>"
            ],
            "text/plain": [
              "   Item_Identifier  Item_Weight  ...        Outlet_Type  Item_Outlet_Sales\n",
              "8            FDH17       16.200  ...  Supermarket Type1          1076.5986\n",
              "33           FDO23       17.850  ...  Supermarket Type1          2174.5028\n",
              "46           NCP05       19.600  ...  Supermarket Type1          2428.8384\n",
              "47           FDV49       10.000  ...  Supermarket Type1          5815.0972\n",
              "56           NCX54        9.195  ...  Supermarket Type1          2117.2440\n",
              "\n",
              "[5 rows x 12 columns]"
            ]
          },
          "metadata": {
            "tags": []
          },
          "execution_count": 14
        }
      ]
    },
    {
      "cell_type": "code",
      "metadata": {
        "colab": {
          "base_uri": "https://localhost:8080/"
        },
        "id": "MJ8J-dk1NiLm",
        "outputId": "85b0380b-656d-4218-8cfc-a5cbd608fbcb"
      },
      "source": [
        "sales['Item_Fat_Content'].value_counts()"
      ],
      "execution_count": 15,
      "outputs": [
        {
          "output_type": "execute_result",
          "data": {
            "text/plain": [
              "Low Fat    5089\n",
              "Regular    2889\n",
              "LF          316\n",
              "reg         117\n",
              "low fat     112\n",
              "Name: Item_Fat_Content, dtype: int64"
            ]
          },
          "metadata": {
            "tags": []
          },
          "execution_count": 15
        }
      ]
    },
    {
      "cell_type": "code",
      "metadata": {
        "id": "c_6IU6FnN8lE"
      },
      "source": [
        "sales.loc[sales['Item_Fat_Content'] == 'LF', 'Item_Fat_Content'] = 'Low Fat'\n",
        "sales.loc[sales['Item_Fat_Content'] == 'reg', 'Item_Fat_Content'] = 'Regular'\n",
        "sales.loc[sales['Item_Fat_Content'] == 'low fat', 'Item_Fat_Content'] = 'Low Fat'"
      ],
      "execution_count": 16,
      "outputs": []
    },
    {
      "cell_type": "code",
      "metadata": {
        "colab": {
          "base_uri": "https://localhost:8080/"
        },
        "id": "AxQkI2aPOqUy",
        "outputId": "2ca86523-9e45-4d33-fe20-674c143cb061"
      },
      "source": [
        "sales['Item_Fat_Content'].value_counts()"
      ],
      "execution_count": 17,
      "outputs": [
        {
          "output_type": "execute_result",
          "data": {
            "text/plain": [
              "Low Fat    5517\n",
              "Regular    3006\n",
              "Name: Item_Fat_Content, dtype: int64"
            ]
          },
          "metadata": {
            "tags": []
          },
          "execution_count": 17
        }
      ]
    },
    {
      "cell_type": "code",
      "metadata": {
        "id": "tiVPLzuEPF4U",
        "colab": {
          "base_uri": "https://localhost:8080/"
        },
        "outputId": "572c0c90-5285-4c27-f5cb-6db303982c4d"
      },
      "source": [
        "sales['Outlet_Size'].value_counts()"
      ],
      "execution_count": 18,
      "outputs": [
        {
          "output_type": "execute_result",
          "data": {
            "text/plain": [
              "Medium    2793\n",
              "Small     2388\n",
              "High       932\n",
              "Name: Outlet_Size, dtype: int64"
            ]
          },
          "metadata": {
            "tags": []
          },
          "execution_count": 18
        }
      ]
    },
    {
      "cell_type": "code",
      "metadata": {
        "id": "aV9QNIQPX75A"
      },
      "source": [
        "size_mis = sales['Outlet_Size'].isna()\n",
        "outtypedf = sales.loc[size_mis,:]\n",
        "outtypedf['Outlet_Type'].value_counts()\n",
        "type_grocery = sales['Outlet_Type']== 'Grocery Store'\n",
        "type_superT1 = sales['Outlet_Type']== 'Supermarket Type1'"
      ],
      "execution_count": 19,
      "outputs": []
    },
    {
      "cell_type": "code",
      "metadata": {
        "id": "IX_01qh2YlJJ"
      },
      "source": [
        "#type1filt = sales['Outlet_Type']== 'Supermarket Type1'\n",
        "sales.fillna(sales.mean(),inplace=True)\n",
        "#sales.loc[out2df,:].fillna('High', inplace=True) \n",
        "#grocerytypedf = outtypedf.loc[outtypeGdf, :]\n",
        "#grocerytypedf.loc[0:, 'Outlet_Size'].fillna('Small', inplace=True)\n",
        "#supertype1df = outtypedf.loc[outtypeT1df,:]\n",
        "#supertype1df.loc[0:, 'Outlet_Size'].fillna('High', inplace=True)\n",
        "#sales.loc[type_grocery & size_mis].fillna('Small', inplace=True)\n",
        "#sales.loc[size_mis & type_superT1].fillna('High', inplace=True)\n",
        "sales.loc[0:, 'Outlet_Size'].fillna('High', inplace=True)"
      ],
      "execution_count": 20,
      "outputs": []
    },
    {
      "cell_type": "code",
      "metadata": {
        "colab": {
          "base_uri": "https://localhost:8080/"
        },
        "id": "3PEleQgIbwde",
        "outputId": "06b7be87-9b40-4c6a-c3fd-eaff2caf86a7"
      },
      "source": [
        "#Supermarket type1= mixed Type2 and Type3 = medium Grocery Store = small\n",
        "sales['Item_Identifier'].value_counts()"
      ],
      "execution_count": 21,
      "outputs": [
        {
          "output_type": "execute_result",
          "data": {
            "text/plain": [
              "FDG33    10\n",
              "FDW13    10\n",
              "FDW26     9\n",
              "DRE49     9\n",
              "FDX04     9\n",
              "         ..\n",
              "FDO33     1\n",
              "FDN52     1\n",
              "FDQ60     1\n",
              "FDT35     1\n",
              "FDY43     1\n",
              "Name: Item_Identifier, Length: 1559, dtype: int64"
            ]
          },
          "metadata": {
            "tags": []
          },
          "execution_count": 21
        }
      ]
    },
    {
      "cell_type": "code",
      "metadata": {
        "id": "vAfP64J2zR-o"
      },
      "source": [
        "size = sales['Outlet_Size'].values\n",
        "item = sales['Item_Identifier'].values\n",
        "item_sale =  sales['Item_Outlet_Sales'].values\n",
        "sns.set_theme(style=\"darkgrid\")\n"
      ],
      "execution_count": 22,
      "outputs": []
    },
    {
      "cell_type": "code",
      "metadata": {
        "colab": {
          "base_uri": "https://localhost:8080/"
        },
        "id": "oAiSJIL4Jihl",
        "outputId": "5f3e0903-6083-43c5-d9cf-540411f25e78"
      },
      "source": [
        "sales['Outlet_Type'].value_counts()"
      ],
      "execution_count": 23,
      "outputs": [
        {
          "output_type": "execute_result",
          "data": {
            "text/plain": [
              "Supermarket Type1    5577\n",
              "Grocery Store        1083\n",
              "Supermarket Type3     935\n",
              "Supermarket Type2     928\n",
              "Name: Outlet_Type, dtype: int64"
            ]
          },
          "metadata": {
            "tags": []
          },
          "execution_count": 23
        }
      ]
    },
    {
      "cell_type": "code",
      "metadata": {
        "colab": {
          "base_uri": "https://localhost:8080/",
          "height": 164
        },
        "id": "A3tB1IbcKE8o",
        "outputId": "843ef9b4-dad0-45cf-b8c5-f078b6b9fa0f"
      },
      "source": [
        "item1 = sales['Item_Identifier']== 'FDG33'\n",
        "item1_type1df = sales.loc[item1 & out_type1]\n",
        "item1_type2df = sales.loc[item1 & out_type2]\n",
        "item1_type3df = sales.loc[item1 & out_type3]\n",
        "item1_type4df = sales.loc[item1 & out_type4]\n",
        "item1_pricetype1 = item1_type1df['Item_Outlet_Sales'].values.sum()\n",
        "item1_pricetype2 = item1_type2df['Item_Outlet_Sales'].values.sum()\n",
        "item1_pricetype3 = item1_type3df['Item_Outlet_Sales'].values.sum()\n",
        "item1_pricetype4 = item1_type4df['Item_Outlet_Sales'].values.sum()\n",
        "item2 = sales['Item_Identifier']== 'NCI54'\n",
        "item2_type1df = sales.loc[item2 & out_type1]\n",
        "item2_type2df = sales.loc[item2 & out_type2]\n",
        "item2_type3df = sales.loc[item2 & out_type3]\n",
        "item2_type4df = sales.loc[item2 & out_type4]\n",
        "item2_pricetype1 = item2_type1df['Item_Outlet_Sales'].values.sum()\n",
        "item2_pricetype2 = item2_type2df['Item_Outlet_Sales'].values.sum()\n",
        "item2_pricetype3 = item2_type3df['Item_Outlet_Sales'].values.sum()\n",
        "item2_pricetype4 = item2_type4df['Item_Outlet_Sales'].values.sum()\n",
        "item3 = sales['Item_Identifier']== 'FDF52'\n",
        "item3_type1df = sales.loc[item3 & out_type1]\n",
        "item3_type2df = sales.loc[item3 & out_type2]\n",
        "item3_type3df = sales.loc[item3 & out_type3]\n",
        "item3_type4df = sales.loc[item3 & out_type4]\n",
        "item3_pricetype1 = item3_type1df['Item_Outlet_Sales'].values.sum()\n",
        "item3_pricetype2 = item3_type2df['Item_Outlet_Sales'].values.sum()\n",
        "item3_pricetype3 = item3_type3df['Item_Outlet_Sales'].values.sum()\n",
        "item3_pricetype4 = item3_type4df['Item_Outlet_Sales'].values.sum()\n",
        "item3_type4df"
      ],
      "execution_count": 24,
      "outputs": [
        {
          "output_type": "execute_result",
          "data": {
            "text/html": [
              "<div>\n",
              "<style scoped>\n",
              "    .dataframe tbody tr th:only-of-type {\n",
              "        vertical-align: middle;\n",
              "    }\n",
              "\n",
              "    .dataframe tbody tr th {\n",
              "        vertical-align: top;\n",
              "    }\n",
              "\n",
              "    .dataframe thead th {\n",
              "        text-align: right;\n",
              "    }\n",
              "</style>\n",
              "<table border=\"1\" class=\"dataframe\">\n",
              "  <thead>\n",
              "    <tr style=\"text-align: right;\">\n",
              "      <th></th>\n",
              "      <th>Item_Identifier</th>\n",
              "      <th>Item_Weight</th>\n",
              "      <th>Item_Fat_Content</th>\n",
              "      <th>Item_Visibility</th>\n",
              "      <th>Item_Type</th>\n",
              "      <th>Item_MRP</th>\n",
              "      <th>Outlet_Identifier</th>\n",
              "      <th>Outlet_Establishment_Year</th>\n",
              "      <th>Outlet_Size</th>\n",
              "      <th>Outlet_Location_Type</th>\n",
              "      <th>Outlet_Type</th>\n",
              "      <th>Item_Outlet_Sales</th>\n",
              "    </tr>\n",
              "  </thead>\n",
              "  <tbody>\n",
              "    <tr>\n",
              "      <th>6002</th>\n",
              "      <td>FDF52</td>\n",
              "      <td>9.300000</td>\n",
              "      <td>Low Fat</td>\n",
              "      <td>0.111782</td>\n",
              "      <td>Frozen Foods</td>\n",
              "      <td>182.3292</td>\n",
              "      <td>OUT010</td>\n",
              "      <td>1998</td>\n",
              "      <td>High</td>\n",
              "      <td>Tier 3</td>\n",
              "      <td>Grocery Store</td>\n",
              "      <td>182.4292</td>\n",
              "    </tr>\n",
              "    <tr>\n",
              "      <th>8030</th>\n",
              "      <td>FDF52</td>\n",
              "      <td>12.857645</td>\n",
              "      <td>Low Fat</td>\n",
              "      <td>0.116929</td>\n",
              "      <td>Frozen Foods</td>\n",
              "      <td>183.3292</td>\n",
              "      <td>OUT019</td>\n",
              "      <td>1985</td>\n",
              "      <td>Small</td>\n",
              "      <td>Tier 1</td>\n",
              "      <td>Grocery Store</td>\n",
              "      <td>364.8584</td>\n",
              "    </tr>\n",
              "  </tbody>\n",
              "</table>\n",
              "</div>"
            ],
            "text/plain": [
              "     Item_Identifier  Item_Weight  ...    Outlet_Type  Item_Outlet_Sales\n",
              "6002           FDF52     9.300000  ...  Grocery Store           182.4292\n",
              "8030           FDF52    12.857645  ...  Grocery Store           364.8584\n",
              "\n",
              "[2 rows x 12 columns]"
            ]
          },
          "metadata": {
            "tags": []
          },
          "execution_count": 24
        }
      ]
    },
    {
      "cell_type": "code",
      "metadata": {
        "colab": {
          "base_uri": "https://localhost:8080/",
          "height": 379
        },
        "id": "8ZF3QAuB_q3U",
        "outputId": "e71ac5da-a263-4ec8-c2b4-763bf518958a"
      },
      "source": [
        "#x = type, y = sales\n",
        "x_bar = ['Supermarket Type1','Supermarket Type2', 'Supermarket Type3', 'Grocery Store']\n",
        "y_bar1 = [item1_pricetype1, item1_pricetype2, item1_pricetype3, item1_pricetype4]\n",
        "y_bar2 = [item2_pricetype1, item2_pricetype2, item2_pricetype3, item2_pricetype4]\n",
        "y_bar3 = [item3_pricetype1, item3_pricetype2, item3_pricetype3, item3_pricetype4]\n",
        "positions = [0, 1, 2, 3]\n",
        "positions2 = [.3, 1.3, 2.3, 3.3]\n",
        "positions3 = [.6, 1.6, 2.6, 3.6]\n",
        "plt.rcParams['font.family'] = 'serif'\n",
        "plt.style.use('dark_background')\n",
        "plt.bar(positions, y_bar1, width= .3, color= 'Orange', label = 'Item FDG33')\n",
        "plt.bar(positions2, y_bar2, width= .3, color= 'Green', label = 'Item NCI54')\n",
        "plt.bar(positions3, y_bar3, width= .3, color= 'Blue', label = 'Item FDF52')\n",
        "plt.xticks(positions, x_bar, rotation = 45)\n",
        "plt.title('Items Sell more at Supermarket Type1',fontsize= 15)\n",
        "plt.ylabel('Sum of Sales in Dollars',fontsize= 15)\n",
        "plt.xlabel('Outlet Type',fontsize= 15)\n",
        "plt.grid(False)\n",
        "plt.legend()\n",
        "plt.savefig('SupermarketType1.png', dpi = 300)"
      ],
      "execution_count": 25,
      "outputs": [
        {
          "output_type": "display_data",
          "data": {
            "image/png": "[encoded data removed]",
            "text/plain": [
              "<Figure size 432x288 with 1 Axes>"
            ]
          },
          "metadata": {
            "tags": []
          }
        }
      ]
    },
    {
      "cell_type": "code",
      "metadata": {
        "colab": {
          "base_uri": "https://localhost:8080/"
        },
        "id": "69GtMtuGC_R1",
        "outputId": "6faad74a-1a38-4bb1-9e3b-af44ee9f7892"
      },
      "source": [
        "sales['Outlet_Establishment_Year'].value_counts()"
      ],
      "execution_count": 26,
      "outputs": [
        {
          "output_type": "execute_result",
          "data": {
            "text/plain": [
              "1985    1463\n",
              "1987     932\n",
              "1999     930\n",
              "1997     930\n",
              "2004     930\n",
              "2002     929\n",
              "2009     928\n",
              "2007     926\n",
              "1998     555\n",
              "Name: Outlet_Establishment_Year, dtype: int64"
            ]
          },
          "metadata": {
            "tags": []
          },
          "execution_count": 26
        }
      ]
    },
    {
      "cell_type": "code",
      "metadata": {
        "colab": {
          "base_uri": "https://localhost:8080/"
        },
        "id": "xLTpMV5B0mJ1",
        "outputId": "9af37e89-f2ce-498b-d750-38c1147ce25f"
      },
      "source": [
        "grocery_filter = sales['Outlet_Type']=='Grocery Store'\n",
        "supermarkettype1_filter = sales['Outlet_Type']=='Supermarket Type1'\n",
        "supermarkettype2_filter = sales['Outlet_Type']=='Supermarket Type2'\n",
        "supermarkettype3_filter = sales['Outlet_Type']=='Supermarket Type3'\n",
        "year2009_filter = sales['Outlet_Establishment_Year']==2009\n",
        "year1999_filter = sales['Outlet_Establishment_Year']==1999\n",
        "year1998_filter = sales['Outlet_Establishment_Year']==1998\n",
        "year1997_filter = sales['Outlet_Establishment_Year']==1997\n",
        "year1985_filter = sales['Outlet_Establishment_Year']==1985\n",
        "year1987_filter = sales['Outlet_Establishment_Year']==1987\n",
        "year2004_filter = sales['Outlet_Establishment_Year']==2004\n",
        "year2002_filter = sales['Outlet_Establishment_Year']==2002\n",
        "year2007_filter = sales['Outlet_Establishment_Year']==2007\n",
        "grocerydf = sales.loc[grocery_filter,:]\n",
        "supermarkettype1df2007 = sales[supermarkettype1_filter & year2007_filter]\n",
        "supermarkettype1df1987 = sales[supermarkettype1_filter & year1987_filter]\n",
        "supermarkettype1df1999 = sales[supermarkettype1_filter & year1999_filter]\n",
        "supermarkettype1df2004 = sales[supermarkettype1_filter & year2004_filter]\n",
        "supermarkettype1df2002 = sales[supermarkettype1_filter & year2002_filter]\n",
        "supermarkettype1df1997 = sales[supermarkettype1_filter & year1997_filter]\n",
        "supermarkettype1df = sales.loc[supermarkettype1_filter,:]\n",
        "supermarkettype2df2009 = sales[supermarkettype2_filter & year2009_filter]\n",
        "supermarkettype2df = sales.loc[supermarkettype2_filter,:]\n",
        "supermarkettype3df1985 = sales[supermarkettype3_filter & year1985_filter]\n",
        "supermarkettype3df = sales.loc[supermarkettype3_filter,:]\n",
        "#supermarkettype1df['Outlet_Establishment_Year'].value_counts()\n",
        "#1987 1999 1997 2004 2002 2007\n",
        "supermarkettype1sales1987 = supermarkettype1df1987['Item_Outlet_Sales'].values.sum()\n",
        "supermarkettype1sales1999 = supermarkettype1df1999['Item_Outlet_Sales'].values.sum()\n",
        "supermarkettype1sales2007 = supermarkettype1df2007['Item_Outlet_Sales'].values.sum()\n",
        "supermarkettype1sales2004 = supermarkettype1df2004['Item_Outlet_Sales'].values.sum()\n",
        "supermarkettype1sales2002 = supermarkettype1df2002['Item_Outlet_Sales'].values.sum()\n",
        "supermarkettype1sales1997 = supermarkettype1df1997['Item_Outlet_Sales'].values.sum()\n",
        "supermarkettype2sales2009 = supermarkettype2df2009['Item_Outlet_Sales'].values.sum()\n",
        "supermarkettype3sales1985 = supermarkettype3df1985['Item_Outlet_Sales'].values.sum()\n",
        "grocerydf['Outlet_Establishment_Year'].value_counts()\n"
      ],
      "execution_count": 27,
      "outputs": [
        {
          "output_type": "execute_result",
          "data": {
            "text/plain": [
              "1998    555\n",
              "1985    528\n",
              "Name: Outlet_Establishment_Year, dtype: int64"
            ]
          },
          "metadata": {
            "tags": []
          },
          "execution_count": 27
        }
      ]
    },
    {
      "cell_type": "code",
      "metadata": {
        "colab": {
          "base_uri": "https://localhost:8080/",
          "height": 318
        },
        "id": "8BHhVf0G1tjK",
        "outputId": "ac004fad-a3f9-4c1b-d6ff-5e15d64fd141"
      },
      "source": [
        "# OUT010, OUT019 only grocery stores type3 85, type2 09, type1 87,97,99,04,02,07, grocery 98, 85\n",
        "grocerydf1998 = grocerydf.loc[year1998_filter,:]\n",
        "grocerydf1985 = grocerydf.loc[year1985_filter,:]\n",
        "grocery1985sales = grocerydf1985['Item_Outlet_Sales'].values.sum()\n",
        "grocery1998sales = grocerydf1998['Item_Outlet_Sales'].values.sum()\n",
        "#out019_filter = sales['Outlet_Identifier']=='OUT019'\n",
        "#out019df = sales.loc[out019_filter,:]\n",
        "#out019df['Outlet_Establishment_Year'].value_counts()\n",
        "x1 = [1985, 1987, 1997, 1998, 1999, 2002, 2004, 2007, 2009]\n",
        "#yo= [  0   , 1   , 2  ,  3  ,  4  ,  5  ,  6  ,  7  ,  8]\n",
        "#positions = [1, 2, 4, 5, 6, 7]\n",
        "#positions2 = [8]\n",
        "#positions3 = [0]\n",
        "#positions4 = [.3,3]\n",
        "positions = [1987, 1997, 1999, 2002, 2004, 2007]\n",
        "positions2 = [2009]\n",
        "positions3 = [1985]\n",
        "positions4 = [1985.7,1998]\n",
        "y1 = [supermarkettype1sales1987, supermarkettype1sales1999, supermarkettype1sales2007, supermarkettype1sales2002,\n",
        "      supermarkettype1sales2004, supermarkettype1sales1997]\n",
        "y2 = [supermarkettype2sales2009]\n",
        "y3 = [supermarkettype3sales1985]\n",
        "y4 = [grocery1985sales, grocery1998sales]\n",
        "plt.bar(positions, y1, label = 'SuperMarket Type1')\n",
        "plt.bar(positions2, y2, label = 'SuperMarket Type2')\n",
        "plt.bar(positions3, y3, label = 'SuperMarket Type3')\n",
        "plt.bar(positions4, y4,label = 'Grocery Store')\n",
        "plt.xticks( rotation=45)\n",
        "plt.ylabel('Total Sales in Millions')\n",
        "plt.xlabel(\"Years\")\n",
        "plt.title('Total Sales by Market Type Over the Years')\n",
        "plt.legend()\n",
        "plt.grid(False)"
      ],
      "execution_count": 28,
      "outputs": [
        {
          "output_type": "display_data",
          "data": {
            "image/png": "[encoded data removed]",
            "text/plain": [
              "<Figure size 432x288 with 1 Axes>"
            ]
          },
          "metadata": {
            "tags": []
          }
        }
      ]
    },
    {
      "cell_type": "code",
      "metadata": {
        "colab": {
          "base_uri": "https://localhost:8080/",
          "height": 307
        },
        "id": "xQ2sdLI_5jDW",
        "outputId": "0053007b-3d71-4668-e6ea-7cce927c6bcb"
      },
      "source": [
        "sales.head()"
      ],
      "execution_count": 29,
      "outputs": [
        {
          "output_type": "execute_result",
          "data": {
            "text/html": [
              "<div>\n",
              "<style scoped>\n",
              "    .dataframe tbody tr th:only-of-type {\n",
              "        vertical-align: middle;\n",
              "    }\n",
              "\n",
              "    .dataframe tbody tr th {\n",
              "        vertical-align: top;\n",
              "    }\n",
              "\n",
              "    .dataframe thead th {\n",
              "        text-align: right;\n",
              "    }\n",
              "</style>\n",
              "<table border=\"1\" class=\"dataframe\">\n",
              "  <thead>\n",
              "    <tr style=\"text-align: right;\">\n",
              "      <th></th>\n",
              "      <th>Item_Identifier</th>\n",
              "      <th>Item_Weight</th>\n",
              "      <th>Item_Fat_Content</th>\n",
              "      <th>Item_Visibility</th>\n",
              "      <th>Item_Type</th>\n",
              "      <th>Item_MRP</th>\n",
              "      <th>Outlet_Identifier</th>\n",
              "      <th>Outlet_Establishment_Year</th>\n",
              "      <th>Outlet_Size</th>\n",
              "      <th>Outlet_Location_Type</th>\n",
              "      <th>Outlet_Type</th>\n",
              "      <th>Item_Outlet_Sales</th>\n",
              "    </tr>\n",
              "  </thead>\n",
              "  <tbody>\n",
              "    <tr>\n",
              "      <th>0</th>\n",
              "      <td>FDA15</td>\n",
              "      <td>9.30</td>\n",
              "      <td>Low Fat</td>\n",
              "      <td>0.016047</td>\n",
              "      <td>Dairy</td>\n",
              "      <td>249.8092</td>\n",
              "      <td>OUT049</td>\n",
              "      <td>1999</td>\n",
              "      <td>Medium</td>\n",
              "      <td>Tier 1</td>\n",
              "      <td>Supermarket Type1</td>\n",
              "      <td>3735.1380</td>\n",
              "    </tr>\n",
              "    <tr>\n",
              "      <th>1</th>\n",
              "      <td>DRC01</td>\n",
              "      <td>5.92</td>\n",
              "      <td>Regular</td>\n",
              "      <td>0.019278</td>\n",
              "      <td>Soft Drinks</td>\n",
              "      <td>48.2692</td>\n",
              "      <td>OUT018</td>\n",
              "      <td>2009</td>\n",
              "      <td>Medium</td>\n",
              "      <td>Tier 3</td>\n",
              "      <td>Supermarket Type2</td>\n",
              "      <td>443.4228</td>\n",
              "    </tr>\n",
              "    <tr>\n",
              "      <th>2</th>\n",
              "      <td>FDN15</td>\n",
              "      <td>17.50</td>\n",
              "      <td>Low Fat</td>\n",
              "      <td>0.016760</td>\n",
              "      <td>Meat</td>\n",
              "      <td>141.6180</td>\n",
              "      <td>OUT049</td>\n",
              "      <td>1999</td>\n",
              "      <td>Medium</td>\n",
              "      <td>Tier 1</td>\n",
              "      <td>Supermarket Type1</td>\n",
              "      <td>2097.2700</td>\n",
              "    </tr>\n",
              "    <tr>\n",
              "      <th>3</th>\n",
              "      <td>FDX07</td>\n",
              "      <td>19.20</td>\n",
              "      <td>Regular</td>\n",
              "      <td>0.000000</td>\n",
              "      <td>Fruits and Vegetables</td>\n",
              "      <td>182.0950</td>\n",
              "      <td>OUT010</td>\n",
              "      <td>1998</td>\n",
              "      <td>High</td>\n",
              "      <td>Tier 3</td>\n",
              "      <td>Grocery Store</td>\n",
              "      <td>732.3800</td>\n",
              "    </tr>\n",
              "    <tr>\n",
              "      <th>4</th>\n",
              "      <td>NCD19</td>\n",
              "      <td>8.93</td>\n",
              "      <td>Low Fat</td>\n",
              "      <td>0.000000</td>\n",
              "      <td>Household</td>\n",
              "      <td>53.8614</td>\n",
              "      <td>OUT013</td>\n",
              "      <td>1987</td>\n",
              "      <td>High</td>\n",
              "      <td>Tier 3</td>\n",
              "      <td>Supermarket Type1</td>\n",
              "      <td>994.7052</td>\n",
              "    </tr>\n",
              "  </tbody>\n",
              "</table>\n",
              "</div>"
            ],
            "text/plain": [
              "  Item_Identifier  Item_Weight  ...        Outlet_Type  Item_Outlet_Sales\n",
              "0           FDA15         9.30  ...  Supermarket Type1          3735.1380\n",
              "1           DRC01         5.92  ...  Supermarket Type2           443.4228\n",
              "2           FDN15        17.50  ...  Supermarket Type1          2097.2700\n",
              "3           FDX07        19.20  ...      Grocery Store           732.3800\n",
              "4           NCD19         8.93  ...  Supermarket Type1           994.7052\n",
              "\n",
              "[5 rows x 12 columns]"
            ]
          },
          "metadata": {
            "tags": []
          },
          "execution_count": 29
        }
      ]
    },
    {
      "cell_type": "code",
      "metadata": {
        "colab": {
          "base_uri": "https://localhost:8080/",
          "height": 371
        },
        "id": "BUuiuqgw5pp-",
        "outputId": "60f07111-95bb-4742-dda4-34f2d8ed1719"
      },
      "source": [
        "sns.distplot(supermarkettype1df1987['Item_Outlet_Sales'], kde=False, label= 'Supermarket Type1 1987', color='blue')\n",
        "sns.distplot(supermarkettype1df2007['Item_Outlet_Sales'], kde=False, label= 'Supermarket Type1 2007', color='yellow')\n",
        "\n",
        "sns.choose_light_palette\n",
        "plt.xlabel('Item Sales per Outlet')\n",
        "plt.ylabel(\"Items Count\")\n",
        "plt.title('Supermarket Type1 Item Sales in Established Year vs Latest Year')"
      ],
      "execution_count": 30,
      "outputs": [
        {
          "output_type": "stream",
          "text": [
            "/usr/local/lib/python3.7/dist-packages/seaborn/distributions.py:2557: FutureWarning: `distplot` is a deprecated function and will be removed in a future version. Please adapt your code to use either `displot` (a figure-level function with similar flexibility) or `histplot` (an axes-level function for histograms).\n",
            "  warnings.warn(msg, FutureWarning)\n"
          ],
          "name": "stderr"
        },
        {
          "output_type": "execute_result",
          "data": {
            "text/plain": [
              "Text(0.5, 1.0, 'Supermarket Type1 Item Sales in Established Year vs Latest Year')"
            ]
          },
          "metadata": {
            "tags": []
          },
          "execution_count": 30
        },
        {
          "output_type": "display_data",
          "data": {
            "image/png": "[encoded data removed]",
            "text/plain": [
              "<Figure size 432x288 with 1 Axes>"
            ]
          },
          "metadata": {
            "tags": []
          }
        }
      ]
    },
    {
      "cell_type": "code",
      "metadata": {
        "colab": {
          "base_uri": "https://localhost:8080/",
          "height": 371
        },
        "id": "KIvpZenN7AkG",
        "outputId": "97767c55-b260-4701-f41b-83f02f26ed01"
      },
      "source": [
        "sns.distplot(supermarkettype2df2009['Item_Outlet_Sales'], kde=False, label= 'Supermarket Type2 Item Sales', color='green')\n",
        "plt.xlabel('Item Sales per Outlet')\n",
        "plt.ylabel(\"Items Count\")\n",
        "plt.title('Supermarket Type2 Item Sales in Established Year')"
      ],
      "execution_count": 31,
      "outputs": [
        {
          "output_type": "stream",
          "text": [
            "/usr/local/lib/python3.7/dist-packages/seaborn/distributions.py:2557: FutureWarning: `distplot` is a deprecated function and will be removed in a future version. Please adapt your code to use either `displot` (a figure-level function with similar flexibility) or `histplot` (an axes-level function for histograms).\n",
            "  warnings.warn(msg, FutureWarning)\n"
          ],
          "name": "stderr"
        },
        {
          "output_type": "execute_result",
          "data": {
            "text/plain": [
              "Text(0.5, 1.0, 'Supermarket Type2 Item Sales in Established Year')"
            ]
          },
          "metadata": {
            "tags": []
          },
          "execution_count": 31
        },
        {
          "output_type": "display_data",
          "data": {
            "image/png": "[encoded data removed]",
            "text/plain": [
              "<Figure size 432x288 with 1 Axes>"
            ]
          },
          "metadata": {
            "tags": []
          }
        }
      ]
    },
    {
      "cell_type": "code",
      "metadata": {
        "colab": {
          "base_uri": "https://localhost:8080/",
          "height": 371
        },
        "id": "FfIB1JQm90wJ",
        "outputId": "ab28bab8-4be1-4fcc-eae8-b32f50985652"
      },
      "source": [
        "sns.distplot(supermarkettype3df1985['Item_Outlet_Sales'], kde=False, label= 'Supermarket Type3 1985', color='orange')\n",
        "plt.xlabel('Item Sales per Outlet')\n",
        "plt.ylabel(\"Items Count\")\n",
        "plt.title('Supermarket Type3 Item Sales in Established')"
      ],
      "execution_count": 32,
      "outputs": [
        {
          "output_type": "stream",
          "text": [
            "/usr/local/lib/python3.7/dist-packages/seaborn/distributions.py:2557: FutureWarning: `distplot` is a deprecated function and will be removed in a future version. Please adapt your code to use either `displot` (a figure-level function with similar flexibility) or `histplot` (an axes-level function for histograms).\n",
            "  warnings.warn(msg, FutureWarning)\n"
          ],
          "name": "stderr"
        },
        {
          "output_type": "execute_result",
          "data": {
            "text/plain": [
              "Text(0.5, 1.0, 'Supermarket Type3 Item Sales in Established')"
            ]
          },
          "metadata": {
            "tags": []
          },
          "execution_count": 32
        },
        {
          "output_type": "display_data",
          "data": {
            "image/png": "[encoded data removed]",
            "text/plain": [
              "<Figure size 432x288 with 1 Axes>"
            ]
          },
          "metadata": {
            "tags": []
          }
        }
      ]
    },
    {
      "cell_type": "code",
      "metadata": {
        "colab": {
          "base_uri": "https://localhost:8080/",
          "height": 371
        },
        "id": "57t6FtX3-z7G",
        "outputId": "18534f62-c00e-4e9b-c1d6-c3374610131b"
      },
      "source": [
        "sns.distplot(grocerydf1985['Item_Outlet_Sales'], kde=False, label= 'Grocery Market 1985', color='purple')\n",
        "sns.distplot(grocerydf1998['Item_Outlet_Sales'], kde=False, label= 'Grocery Market 1998', color='green')\n",
        "plt.xlabel('Item Sales per Outlet')\n",
        "plt.ylabel(\"Items Count\")\n",
        "plt.title('Grocery Market Item Sales in Established Year vs Latest Year')"
      ],
      "execution_count": 33,
      "outputs": [
        {
          "output_type": "stream",
          "text": [
            "/usr/local/lib/python3.7/dist-packages/seaborn/distributions.py:2557: FutureWarning: `distplot` is a deprecated function and will be removed in a future version. Please adapt your code to use either `displot` (a figure-level function with similar flexibility) or `histplot` (an axes-level function for histograms).\n",
            "  warnings.warn(msg, FutureWarning)\n"
          ],
          "name": "stderr"
        },
        {
          "output_type": "execute_result",
          "data": {
            "text/plain": [
              "Text(0.5, 1.0, 'Grocery Market Item Sales in Established Year vs Latest Year')"
            ]
          },
          "metadata": {
            "tags": []
          },
          "execution_count": 33
        },
        {
          "output_type": "display_data",
          "data": {
            "image/png": "[encoded data removed]",
            "text/plain": [
              "<Figure size 432x288 with 1 Axes>"
            ]
          },
          "metadata": {
            "tags": []
          }
        }
      ]
    },
    {
      "cell_type": "code",
      "metadata": {
        "id": "BrNjOh9o--5Z",
        "colab": {
          "base_uri": "https://localhost:8080/"
        },
        "outputId": "8bc2f07f-6c52-494f-c540-0f86176098da"
      },
      "source": [
        "sales.info()"
      ],
      "execution_count": 34,
      "outputs": [
        {
          "output_type": "stream",
          "text": [
            "<class 'pandas.core.frame.DataFrame'>\n",
            "RangeIndex: 8523 entries, 0 to 8522\n",
            "Data columns (total 12 columns):\n",
            " #   Column                     Non-Null Count  Dtype  \n",
            "---  ------                     --------------  -----  \n",
            " 0   Item_Identifier            8523 non-null   object \n",
            " 1   Item_Weight                8523 non-null   float64\n",
            " 2   Item_Fat_Content           8523 non-null   object \n",
            " 3   Item_Visibility            8523 non-null   float64\n",
            " 4   Item_Type                  8523 non-null   object \n",
            " 5   Item_MRP                   8523 non-null   float64\n",
            " 6   Outlet_Identifier          8523 non-null   object \n",
            " 7   Outlet_Establishment_Year  8523 non-null   int64  \n",
            " 8   Outlet_Size                8523 non-null   object \n",
            " 9   Outlet_Location_Type       8523 non-null   object \n",
            " 10  Outlet_Type                8523 non-null   object \n",
            " 11  Item_Outlet_Sales          8523 non-null   float64\n",
            "dtypes: float64(4), int64(1), object(7)\n",
            "memory usage: 799.2+ KB\n"
          ],
          "name": "stdout"
        }
      ]
    },
    {
      "cell_type": "code",
      "metadata": {
        "colab": {
          "base_uri": "https://localhost:8080/",
          "height": 269
        },
        "id": "SaKY67_RaDfG",
        "outputId": "35ec231f-3e13-4af4-da1d-106b40174e4a"
      },
      "source": [
        "one_sales = pd.get_dummies(sales, columns=['Item_Identifier', 'Item_Fat_Content', 'Item_Type', 'Outlet_Identifier','Outlet_Establishment_Year', 'Outlet_Size', 'Outlet_Location_Type', 'Outlet_Type' ], drop_first = True)\n",
        "one_sales.head()"
      ],
      "execution_count": 35,
      "outputs": [
        {
          "output_type": "execute_result",
          "data": {
            "text/html": [
              "<div>\n",
              "<style scoped>\n",
              "    .dataframe tbody tr th:only-of-type {\n",
              "        vertical-align: middle;\n",
              "    }\n",
              "\n",
              "    .dataframe tbody tr th {\n",
              "        vertical-align: top;\n",
              "    }\n",
              "\n",
              "    .dataframe thead th {\n",
              "        text-align: right;\n",
              "    }\n",
              "</style>\n",
              "<table border=\"1\" class=\"dataframe\">\n",
              "  <thead>\n",
              "    <tr style=\"text-align: right;\">\n",
              "      <th></th>\n",
              "      <th>Item_Weight</th>\n",
              "      <th>Item_Visibility</th>\n",
              "      <th>Item_MRP</th>\n",
              "      <th>Item_Outlet_Sales</th>\n",
              "      <th>Item_Identifier_DRA24</th>\n",
              "      <th>Item_Identifier_DRA59</th>\n",
              "      <th>Item_Identifier_DRB01</th>\n",
              "      <th>Item_Identifier_DRB13</th>\n",
              "      <th>Item_Identifier_DRB24</th>\n",
              "      <th>Item_Identifier_DRB25</th>\n",
              "      <th>Item_Identifier_DRB48</th>\n",
              "      <th>Item_Identifier_DRC01</th>\n",
              "      <th>Item_Identifier_DRC12</th>\n",
              "      <th>Item_Identifier_DRC13</th>\n",
              "      <th>Item_Identifier_DRC24</th>\n",
              "      <th>Item_Identifier_DRC25</th>\n",
              "      <th>Item_Identifier_DRC27</th>\n",
              "      <th>Item_Identifier_DRC36</th>\n",
              "      <th>Item_Identifier_DRC49</th>\n",
              "      <th>Item_Identifier_DRD01</th>\n",
              "      <th>Item_Identifier_DRD12</th>\n",
              "      <th>Item_Identifier_DRD13</th>\n",
              "      <th>Item_Identifier_DRD15</th>\n",
              "      <th>Item_Identifier_DRD24</th>\n",
              "      <th>Item_Identifier_DRD25</th>\n",
              "      <th>Item_Identifier_DRD27</th>\n",
              "      <th>Item_Identifier_DRD37</th>\n",
              "      <th>Item_Identifier_DRD49</th>\n",
              "      <th>Item_Identifier_DRD60</th>\n",
              "      <th>Item_Identifier_DRE01</th>\n",
              "      <th>Item_Identifier_DRE03</th>\n",
              "      <th>Item_Identifier_DRE12</th>\n",
              "      <th>Item_Identifier_DRE13</th>\n",
              "      <th>Item_Identifier_DRE15</th>\n",
              "      <th>Item_Identifier_DRE25</th>\n",
              "      <th>Item_Identifier_DRE27</th>\n",
              "      <th>Item_Identifier_DRE37</th>\n",
              "      <th>Item_Identifier_DRE48</th>\n",
              "      <th>Item_Identifier_DRE49</th>\n",
              "      <th>Item_Identifier_DRE60</th>\n",
              "      <th>...</th>\n",
              "      <th>Item_Fat_Content_Regular</th>\n",
              "      <th>Item_Type_Breads</th>\n",
              "      <th>Item_Type_Breakfast</th>\n",
              "      <th>Item_Type_Canned</th>\n",
              "      <th>Item_Type_Dairy</th>\n",
              "      <th>Item_Type_Frozen Foods</th>\n",
              "      <th>Item_Type_Fruits and Vegetables</th>\n",
              "      <th>Item_Type_Hard Drinks</th>\n",
              "      <th>Item_Type_Health and Hygiene</th>\n",
              "      <th>Item_Type_Household</th>\n",
              "      <th>Item_Type_Meat</th>\n",
              "      <th>Item_Type_Others</th>\n",
              "      <th>Item_Type_Seafood</th>\n",
              "      <th>Item_Type_Snack Foods</th>\n",
              "      <th>Item_Type_Soft Drinks</th>\n",
              "      <th>Item_Type_Starchy Foods</th>\n",
              "      <th>Outlet_Identifier_OUT013</th>\n",
              "      <th>Outlet_Identifier_OUT017</th>\n",
              "      <th>Outlet_Identifier_OUT018</th>\n",
              "      <th>Outlet_Identifier_OUT019</th>\n",
              "      <th>Outlet_Identifier_OUT027</th>\n",
              "      <th>Outlet_Identifier_OUT035</th>\n",
              "      <th>Outlet_Identifier_OUT045</th>\n",
              "      <th>Outlet_Identifier_OUT046</th>\n",
              "      <th>Outlet_Identifier_OUT049</th>\n",
              "      <th>Outlet_Establishment_Year_1987</th>\n",
              "      <th>Outlet_Establishment_Year_1997</th>\n",
              "      <th>Outlet_Establishment_Year_1998</th>\n",
              "      <th>Outlet_Establishment_Year_1999</th>\n",
              "      <th>Outlet_Establishment_Year_2002</th>\n",
              "      <th>Outlet_Establishment_Year_2004</th>\n",
              "      <th>Outlet_Establishment_Year_2007</th>\n",
              "      <th>Outlet_Establishment_Year_2009</th>\n",
              "      <th>Outlet_Size_Medium</th>\n",
              "      <th>Outlet_Size_Small</th>\n",
              "      <th>Outlet_Location_Type_Tier 2</th>\n",
              "      <th>Outlet_Location_Type_Tier 3</th>\n",
              "      <th>Outlet_Type_Supermarket Type1</th>\n",
              "      <th>Outlet_Type_Supermarket Type2</th>\n",
              "      <th>Outlet_Type_Supermarket Type3</th>\n",
              "    </tr>\n",
              "  </thead>\n",
              "  <tbody>\n",
              "    <tr>\n",
              "      <th>0</th>\n",
              "      <td>9.30</td>\n",
              "      <td>0.016047</td>\n",
              "      <td>249.8092</td>\n",
              "      <td>3735.1380</td>\n",
              "      <td>0</td>\n",
              "      <td>0</td>\n",
              "      <td>0</td>\n",
              "      <td>0</td>\n",
              "      <td>0</td>\n",
              "      <td>0</td>\n",
              "      <td>0</td>\n",
              "      <td>0</td>\n",
              "      <td>0</td>\n",
              "      <td>0</td>\n",
              "      <td>0</td>\n",
              "      <td>0</td>\n",
              "      <td>0</td>\n",
              "      <td>0</td>\n",
              "      <td>0</td>\n",
              "      <td>0</td>\n",
              "      <td>0</td>\n",
              "      <td>0</td>\n",
              "      <td>0</td>\n",
              "      <td>0</td>\n",
              "      <td>0</td>\n",
              "      <td>0</td>\n",
              "      <td>0</td>\n",
              "      <td>0</td>\n",
              "      <td>0</td>\n",
              "      <td>0</td>\n",
              "      <td>0</td>\n",
              "      <td>0</td>\n",
              "      <td>0</td>\n",
              "      <td>0</td>\n",
              "      <td>0</td>\n",
              "      <td>0</td>\n",
              "      <td>0</td>\n",
              "      <td>0</td>\n",
              "      <td>0</td>\n",
              "      <td>0</td>\n",
              "      <td>...</td>\n",
              "      <td>0</td>\n",
              "      <td>0</td>\n",
              "      <td>0</td>\n",
              "      <td>0</td>\n",
              "      <td>1</td>\n",
              "      <td>0</td>\n",
              "      <td>0</td>\n",
              "      <td>0</td>\n",
              "      <td>0</td>\n",
              "      <td>0</td>\n",
              "      <td>0</td>\n",
              "      <td>0</td>\n",
              "      <td>0</td>\n",
              "      <td>0</td>\n",
              "      <td>0</td>\n",
              "      <td>0</td>\n",
              "      <td>0</td>\n",
              "      <td>0</td>\n",
              "      <td>0</td>\n",
              "      <td>0</td>\n",
              "      <td>0</td>\n",
              "      <td>0</td>\n",
              "      <td>0</td>\n",
              "      <td>0</td>\n",
              "      <td>1</td>\n",
              "      <td>0</td>\n",
              "      <td>0</td>\n",
              "      <td>0</td>\n",
              "      <td>1</td>\n",
              "      <td>0</td>\n",
              "      <td>0</td>\n",
              "      <td>0</td>\n",
              "      <td>0</td>\n",
              "      <td>1</td>\n",
              "      <td>0</td>\n",
              "      <td>0</td>\n",
              "      <td>0</td>\n",
              "      <td>1</td>\n",
              "      <td>0</td>\n",
              "      <td>0</td>\n",
              "    </tr>\n",
              "    <tr>\n",
              "      <th>1</th>\n",
              "      <td>5.92</td>\n",
              "      <td>0.019278</td>\n",
              "      <td>48.2692</td>\n",
              "      <td>443.4228</td>\n",
              "      <td>0</td>\n",
              "      <td>0</td>\n",
              "      <td>0</td>\n",
              "      <td>0</td>\n",
              "      <td>0</td>\n",
              "      <td>0</td>\n",
              "      <td>0</td>\n",
              "      <td>1</td>\n",
              "      <td>0</td>\n",
              "      <td>0</td>\n",
              "      <td>0</td>\n",
              "      <td>0</td>\n",
              "      <td>0</td>\n",
              "      <td>0</td>\n",
              "      <td>0</td>\n",
              "      <td>0</td>\n",
              "      <td>0</td>\n",
              "      <td>0</td>\n",
              "      <td>0</td>\n",
              "      <td>0</td>\n",
              "      <td>0</td>\n",
              "      <td>0</td>\n",
              "      <td>0</td>\n",
              "      <td>0</td>\n",
              "      <td>0</td>\n",
              "      <td>0</td>\n",
              "      <td>0</td>\n",
              "      <td>0</td>\n",
              "      <td>0</td>\n",
              "      <td>0</td>\n",
              "      <td>0</td>\n",
              "      <td>0</td>\n",
              "      <td>0</td>\n",
              "      <td>0</td>\n",
              "      <td>0</td>\n",
              "      <td>0</td>\n",
              "      <td>...</td>\n",
              "      <td>1</td>\n",
              "      <td>0</td>\n",
              "      <td>0</td>\n",
              "      <td>0</td>\n",
              "      <td>0</td>\n",
              "      <td>0</td>\n",
              "      <td>0</td>\n",
              "      <td>0</td>\n",
              "      <td>0</td>\n",
              "      <td>0</td>\n",
              "      <td>0</td>\n",
              "      <td>0</td>\n",
              "      <td>0</td>\n",
              "      <td>0</td>\n",
              "      <td>1</td>\n",
              "      <td>0</td>\n",
              "      <td>0</td>\n",
              "      <td>0</td>\n",
              "      <td>1</td>\n",
              "      <td>0</td>\n",
              "      <td>0</td>\n",
              "      <td>0</td>\n",
              "      <td>0</td>\n",
              "      <td>0</td>\n",
              "      <td>0</td>\n",
              "      <td>0</td>\n",
              "      <td>0</td>\n",
              "      <td>0</td>\n",
              "      <td>0</td>\n",
              "      <td>0</td>\n",
              "      <td>0</td>\n",
              "      <td>0</td>\n",
              "      <td>1</td>\n",
              "      <td>1</td>\n",
              "      <td>0</td>\n",
              "      <td>0</td>\n",
              "      <td>1</td>\n",
              "      <td>0</td>\n",
              "      <td>1</td>\n",
              "      <td>0</td>\n",
              "    </tr>\n",
              "    <tr>\n",
              "      <th>2</th>\n",
              "      <td>17.50</td>\n",
              "      <td>0.016760</td>\n",
              "      <td>141.6180</td>\n",
              "      <td>2097.2700</td>\n",
              "      <td>0</td>\n",
              "      <td>0</td>\n",
              "      <td>0</td>\n",
              "      <td>0</td>\n",
              "      <td>0</td>\n",
              "      <td>0</td>\n",
              "      <td>0</td>\n",
              "      <td>0</td>\n",
              "      <td>0</td>\n",
              "      <td>0</td>\n",
              "      <td>0</td>\n",
              "      <td>0</td>\n",
              "      <td>0</td>\n",
              "      <td>0</td>\n",
              "      <td>0</td>\n",
              "      <td>0</td>\n",
              "      <td>0</td>\n",
              "      <td>0</td>\n",
              "      <td>0</td>\n",
              "      <td>0</td>\n",
              "      <td>0</td>\n",
              "      <td>0</td>\n",
              "      <td>0</td>\n",
              "      <td>0</td>\n",
              "      <td>0</td>\n",
              "      <td>0</td>\n",
              "      <td>0</td>\n",
              "      <td>0</td>\n",
              "      <td>0</td>\n",
              "      <td>0</td>\n",
              "      <td>0</td>\n",
              "      <td>0</td>\n",
              "      <td>0</td>\n",
              "      <td>0</td>\n",
              "      <td>0</td>\n",
              "      <td>0</td>\n",
              "      <td>...</td>\n",
              "      <td>0</td>\n",
              "      <td>0</td>\n",
              "      <td>0</td>\n",
              "      <td>0</td>\n",
              "      <td>0</td>\n",
              "      <td>0</td>\n",
              "      <td>0</td>\n",
              "      <td>0</td>\n",
              "      <td>0</td>\n",
              "      <td>0</td>\n",
              "      <td>1</td>\n",
              "      <td>0</td>\n",
              "      <td>0</td>\n",
              "      <td>0</td>\n",
              "      <td>0</td>\n",
              "      <td>0</td>\n",
              "      <td>0</td>\n",
              "      <td>0</td>\n",
              "      <td>0</td>\n",
              "      <td>0</td>\n",
              "      <td>0</td>\n",
              "      <td>0</td>\n",
              "      <td>0</td>\n",
              "      <td>0</td>\n",
              "      <td>1</td>\n",
              "      <td>0</td>\n",
              "      <td>0</td>\n",
              "      <td>0</td>\n",
              "      <td>1</td>\n",
              "      <td>0</td>\n",
              "      <td>0</td>\n",
              "      <td>0</td>\n",
              "      <td>0</td>\n",
              "      <td>1</td>\n",
              "      <td>0</td>\n",
              "      <td>0</td>\n",
              "      <td>0</td>\n",
              "      <td>1</td>\n",
              "      <td>0</td>\n",
              "      <td>0</td>\n",
              "    </tr>\n",
              "    <tr>\n",
              "      <th>3</th>\n",
              "      <td>19.20</td>\n",
              "      <td>0.000000</td>\n",
              "      <td>182.0950</td>\n",
              "      <td>732.3800</td>\n",
              "      <td>0</td>\n",
              "      <td>0</td>\n",
              "      <td>0</td>\n",
              "      <td>0</td>\n",
              "      <td>0</td>\n",
              "      <td>0</td>\n",
              "      <td>0</td>\n",
              "      <td>0</td>\n",
              "      <td>0</td>\n",
              "      <td>0</td>\n",
              "      <td>0</td>\n",
              "      <td>0</td>\n",
              "      <td>0</td>\n",
              "      <td>0</td>\n",
              "      <td>0</td>\n",
              "      <td>0</td>\n",
              "      <td>0</td>\n",
              "      <td>0</td>\n",
              "      <td>0</td>\n",
              "      <td>0</td>\n",
              "      <td>0</td>\n",
              "      <td>0</td>\n",
              "      <td>0</td>\n",
              "      <td>0</td>\n",
              "      <td>0</td>\n",
              "      <td>0</td>\n",
              "      <td>0</td>\n",
              "      <td>0</td>\n",
              "      <td>0</td>\n",
              "      <td>0</td>\n",
              "      <td>0</td>\n",
              "      <td>0</td>\n",
              "      <td>0</td>\n",
              "      <td>0</td>\n",
              "      <td>0</td>\n",
              "      <td>0</td>\n",
              "      <td>...</td>\n",
              "      <td>1</td>\n",
              "      <td>0</td>\n",
              "      <td>0</td>\n",
              "      <td>0</td>\n",
              "      <td>0</td>\n",
              "      <td>0</td>\n",
              "      <td>1</td>\n",
              "      <td>0</td>\n",
              "      <td>0</td>\n",
              "      <td>0</td>\n",
              "      <td>0</td>\n",
              "      <td>0</td>\n",
              "      <td>0</td>\n",
              "      <td>0</td>\n",
              "      <td>0</td>\n",
              "      <td>0</td>\n",
              "      <td>0</td>\n",
              "      <td>0</td>\n",
              "      <td>0</td>\n",
              "      <td>0</td>\n",
              "      <td>0</td>\n",
              "      <td>0</td>\n",
              "      <td>0</td>\n",
              "      <td>0</td>\n",
              "      <td>0</td>\n",
              "      <td>0</td>\n",
              "      <td>0</td>\n",
              "      <td>1</td>\n",
              "      <td>0</td>\n",
              "      <td>0</td>\n",
              "      <td>0</td>\n",
              "      <td>0</td>\n",
              "      <td>0</td>\n",
              "      <td>0</td>\n",
              "      <td>0</td>\n",
              "      <td>0</td>\n",
              "      <td>1</td>\n",
              "      <td>0</td>\n",
              "      <td>0</td>\n",
              "      <td>0</td>\n",
              "    </tr>\n",
              "    <tr>\n",
              "      <th>4</th>\n",
              "      <td>8.93</td>\n",
              "      <td>0.000000</td>\n",
              "      <td>53.8614</td>\n",
              "      <td>994.7052</td>\n",
              "      <td>0</td>\n",
              "      <td>0</td>\n",
              "      <td>0</td>\n",
              "      <td>0</td>\n",
              "      <td>0</td>\n",
              "      <td>0</td>\n",
              "      <td>0</td>\n",
              "      <td>0</td>\n",
              "      <td>0</td>\n",
              "      <td>0</td>\n",
              "      <td>0</td>\n",
              "      <td>0</td>\n",
              "      <td>0</td>\n",
              "      <td>0</td>\n",
              "      <td>0</td>\n",
              "      <td>0</td>\n",
              "      <td>0</td>\n",
              "      <td>0</td>\n",
              "      <td>0</td>\n",
              "      <td>0</td>\n",
              "      <td>0</td>\n",
              "      <td>0</td>\n",
              "      <td>0</td>\n",
              "      <td>0</td>\n",
              "      <td>0</td>\n",
              "      <td>0</td>\n",
              "      <td>0</td>\n",
              "      <td>0</td>\n",
              "      <td>0</td>\n",
              "      <td>0</td>\n",
              "      <td>0</td>\n",
              "      <td>0</td>\n",
              "      <td>0</td>\n",
              "      <td>0</td>\n",
              "      <td>0</td>\n",
              "      <td>0</td>\n",
              "      <td>...</td>\n",
              "      <td>0</td>\n",
              "      <td>0</td>\n",
              "      <td>0</td>\n",
              "      <td>0</td>\n",
              "      <td>0</td>\n",
              "      <td>0</td>\n",
              "      <td>0</td>\n",
              "      <td>0</td>\n",
              "      <td>0</td>\n",
              "      <td>1</td>\n",
              "      <td>0</td>\n",
              "      <td>0</td>\n",
              "      <td>0</td>\n",
              "      <td>0</td>\n",
              "      <td>0</td>\n",
              "      <td>0</td>\n",
              "      <td>1</td>\n",
              "      <td>0</td>\n",
              "      <td>0</td>\n",
              "      <td>0</td>\n",
              "      <td>0</td>\n",
              "      <td>0</td>\n",
              "      <td>0</td>\n",
              "      <td>0</td>\n",
              "      <td>0</td>\n",
              "      <td>1</td>\n",
              "      <td>0</td>\n",
              "      <td>0</td>\n",
              "      <td>0</td>\n",
              "      <td>0</td>\n",
              "      <td>0</td>\n",
              "      <td>0</td>\n",
              "      <td>0</td>\n",
              "      <td>0</td>\n",
              "      <td>0</td>\n",
              "      <td>0</td>\n",
              "      <td>1</td>\n",
              "      <td>1</td>\n",
              "      <td>0</td>\n",
              "      <td>0</td>\n",
              "    </tr>\n",
              "  </tbody>\n",
              "</table>\n",
              "<p>5 rows × 1602 columns</p>\n",
              "</div>"
            ],
            "text/plain": [
              "   Item_Weight  ...  Outlet_Type_Supermarket Type3\n",
              "0         9.30  ...                              0\n",
              "1         5.92  ...                              0\n",
              "2        17.50  ...                              0\n",
              "3        19.20  ...                              0\n",
              "4         8.93  ...                              0\n",
              "\n",
              "[5 rows x 1602 columns]"
            ]
          },
          "metadata": {
            "tags": []
          },
          "execution_count": 35
        }
      ]
    },
    {
      "cell_type": "code",
      "metadata": {
        "id": "I_wOSE-OtA25"
      },
      "source": [
        ""
      ],
      "execution_count": null,
      "outputs": []
    },
    {
      "cell_type": "code",
      "metadata": {
        "colab": {
          "base_uri": "https://localhost:8080/"
        },
        "id": "F-_hg6e4a0kU",
        "outputId": "7cb633f4-acba-43ec-8abf-6c8c3d56b529"
      },
      "source": [
        "one_sales.shape"
      ],
      "execution_count": 36,
      "outputs": [
        {
          "output_type": "execute_result",
          "data": {
            "text/plain": [
              "(8523, 1602)"
            ]
          },
          "metadata": {
            "tags": []
          },
          "execution_count": 36
        }
      ]
    },
    {
      "cell_type": "code",
      "metadata": {
        "colab": {
          "base_uri": "https://localhost:8080/"
        },
        "id": "3JYoQ_5RdgbR",
        "outputId": "fbbf41f6-82a3-4048-f80b-94d24951b704"
      },
      "source": [
        "one_sales.dtypes"
      ],
      "execution_count": 54,
      "outputs": [
        {
          "output_type": "execute_result",
          "data": {
            "text/plain": [
              "Item_Weight                      float64\n",
              "Item_Visibility                  float64\n",
              "Item_MRP                         float64\n",
              "Item_Outlet_Sales                float64\n",
              "Item_Identifier_DRA24              uint8\n",
              "                                  ...   \n",
              "Outlet_Location_Type_Tier 2        uint8\n",
              "Outlet_Location_Type_Tier 3        uint8\n",
              "Outlet_Type_Supermarket Type1      uint8\n",
              "Outlet_Type_Supermarket Type2      uint8\n",
              "Outlet_Type_Supermarket Type3      uint8\n",
              "Length: 1602, dtype: object"
            ]
          },
          "metadata": {
            "tags": []
          },
          "execution_count": 54
        }
      ]
    },
    {
      "cell_type": "code",
      "metadata": {
        "colab": {
          "base_uri": "https://localhost:8080/"
        },
        "id": "dAvmAIQad9Y2",
        "outputId": "46c2665d-4140-4798-8be5-5374d2f848fd"
      },
      "source": [
        "one_df = sales.loc[:, ['Item_Type', 'Item_MRP', 'Outlet_Identifier', 'Item_Outlet_Sales']]\n",
        "one_df['Item_Type'].value_counts()"
      ],
      "execution_count": 38,
      "outputs": [
        {
          "output_type": "execute_result",
          "data": {
            "text/plain": [
              "Fruits and Vegetables    1232\n",
              "Snack Foods              1200\n",
              "Household                 910\n",
              "Frozen Foods              856\n",
              "Dairy                     682\n",
              "Canned                    649\n",
              "Baking Goods              648\n",
              "Health and Hygiene        520\n",
              "Soft Drinks               445\n",
              "Meat                      425\n",
              "Breads                    251\n",
              "Hard Drinks               214\n",
              "Others                    169\n",
              "Starchy Foods             148\n",
              "Breakfast                 110\n",
              "Seafood                    64\n",
              "Name: Item_Type, dtype: int64"
            ]
          },
          "metadata": {
            "tags": []
          },
          "execution_count": 38
        }
      ]
    },
    {
      "cell_type": "code",
      "metadata": {
        "id": "eNXLZT2liGtj"
      },
      "source": [
        "'''one_df['Item_Type'] = one_df['Item_Type'].replace({'Fruits and Vegetables': 1 ,\n",
        "                                                   'Snack Foods': 2 ,\n",
        "                                                   'Household': 3 ,\n",
        "                                                   'Frozen Foods': 4 ,\n",
        "                                                   'Dairy': 5 ,\n",
        "                                                   'Canned': 6 ,\n",
        "                                                   'Baking Goods': 7 ,\n",
        "                                                   'Health and Hygiene': 8 ,\n",
        "                                                   'Soft Drinks': 9 ,\n",
        "                                                   'Meat': 10 ,\n",
        "                                                   'Breads': 11 ,\n",
        "                                                   'Hard Drinks': 12 ,\n",
        "                                                   'Others': 13 ,\n",
        "                                                   'Starchy Foods': 14 ,\n",
        "                                                   'Breakfast': 15 ,\n",
        "                                                   'Seafood': 16 ,}'''"
      ],
      "execution_count": 39,
      "outputs": []
    },
    {
      "cell_type": "code",
      "metadata": {
        "id": "bJErNIfgjOMW"
      },
      "source": [
        "'''one_df['Outlet_Identifier'] = one_df['Outlet_Identifier'].replace({'OUT027': 27,\n",
        "                                                                   'OUT013': 13,\n",
        "                                                                   'OUT035': 35,\n",
        "                                                                   'OUT049': 49,\n",
        "                                                                   'OUT046': 46,\n",
        "                                                                   'OUT045': 45,\n",
        "                                                                   'OUT018': 18,\n",
        "                                                                   'OUT017': 17,\n",
        "                                                                   'OUT010': 10,\n",
        "                                                                   'OUT019': 19,})'''"
      ],
      "execution_count": 40,
      "outputs": []
    },
    {
      "cell_type": "code",
      "metadata": {
        "colab": {
          "base_uri": "https://localhost:8080/"
        },
        "id": "nt4AuYs2jZ6x",
        "outputId": "300b65ce-d045-4ea0-ce1f-da4c1bda06e1"
      },
      "source": [
        "one_df.info()"
      ],
      "execution_count": 41,
      "outputs": [
        {
          "output_type": "stream",
          "text": [
            "<class 'pandas.core.frame.DataFrame'>\n",
            "RangeIndex: 8523 entries, 0 to 8522\n",
            "Data columns (total 4 columns):\n",
            " #   Column             Non-Null Count  Dtype  \n",
            "---  ------             --------------  -----  \n",
            " 0   Item_Type          8523 non-null   int64  \n",
            " 1   Item_MRP           8523 non-null   float64\n",
            " 2   Outlet_Identifier  8523 non-null   int64  \n",
            " 3   Item_Outlet_Sales  8523 non-null   float64\n",
            "dtypes: float64(2), int64(2)\n",
            "memory usage: 266.5 KB\n"
          ],
          "name": "stdout"
        }
      ]
    },
    {
      "cell_type": "code",
      "metadata": {
        "id": "ow4IToHHkJIg"
      },
      "source": [
        "X= one_sales.drop(columns= 'Item_Outlet_Sales')"
      ],
      "execution_count": 61,
      "outputs": []
    },
    {
      "cell_type": "code",
      "metadata": {
        "colab": {
          "base_uri": "https://localhost:8080/"
        },
        "id": "Q7KTw8SckXCI",
        "outputId": "bd4c5681-6d86-47f1-f518-e7f7f8f8f6c7"
      },
      "source": [
        "X.shape"
      ],
      "execution_count": 62,
      "outputs": [
        {
          "output_type": "execute_result",
          "data": {
            "text/plain": [
              "(8523, 1601)"
            ]
          },
          "metadata": {
            "tags": []
          },
          "execution_count": 62
        }
      ]
    },
    {
      "cell_type": "code",
      "metadata": {
        "id": "7BoA3eHCkame"
      },
      "source": [
        "y = one_sales.loc[:,'Item_Outlet_Sales' ].values"
      ],
      "execution_count": 64,
      "outputs": []
    },
    {
      "cell_type": "code",
      "metadata": {
        "colab": {
          "base_uri": "https://localhost:8080/"
        },
        "id": "igBYyZiokjgl",
        "outputId": "f52b9b1f-451b-4755-829e-88c17b37e920"
      },
      "source": [
        "y.shape"
      ],
      "execution_count": 65,
      "outputs": [
        {
          "output_type": "execute_result",
          "data": {
            "text/plain": [
              "(8523,)"
            ]
          },
          "metadata": {
            "tags": []
          },
          "execution_count": 65
        }
      ]
    },
    {
      "cell_type": "code",
      "metadata": {
        "id": "jb_SyKEjkkt3"
      },
      "source": [
        "reg = LinearRegression(fit_intercept=True)"
      ],
      "execution_count": 66,
      "outputs": []
    },
    {
      "cell_type": "code",
      "metadata": {
        "colab": {
          "base_uri": "https://localhost:8080/"
        },
        "id": "5DevioF8krem",
        "outputId": "37edd9c0-c259-4bc9-87b5-9e9fe015c7d6"
      },
      "source": [
        "reg.fit(X,y)"
      ],
      "execution_count": 67,
      "outputs": [
        {
          "output_type": "execute_result",
          "data": {
            "text/plain": [
              "LinearRegression(copy_X=True, fit_intercept=True, n_jobs=None, normalize=False)"
            ]
          },
          "metadata": {
            "tags": []
          },
          "execution_count": 67
        }
      ]
    },
    {
      "cell_type": "code",
      "metadata": {
        "colab": {
          "base_uri": "https://localhost:8080/"
        },
        "id": "YuNPodrRktOs",
        "outputId": "d38e2222-4320-4096-a6c4-aafb3a5112a5"
      },
      "source": [
        "reg.predict(X)"
      ],
      "execution_count": 68,
      "outputs": [
        {
          "output_type": "execute_result",
          "data": {
            "text/plain": [
              "array([5342.70350647,  375.73353577, 1931.21913147, ..., 1152.50892639,\n",
              "       1766.56166077, 1274.53163147])"
            ]
          },
          "metadata": {
            "tags": []
          },
          "execution_count": 68
        }
      ]
    },
    {
      "cell_type": "code",
      "metadata": {
        "colab": {
          "base_uri": "https://localhost:8080/"
        },
        "id": "pp-AFtYkk0gj",
        "outputId": "b4a8a24b-b777-4bf6-f047-ab17056d5a1c"
      },
      "source": [
        "score= reg.score(X,y)\n",
        "print(score)"
      ],
      "execution_count": 69,
      "outputs": [
        {
          "output_type": "stream",
          "text": [
            "0.643323064012215\n"
          ],
          "name": "stdout"
        }
      ]
    },
    {
      "cell_type": "code",
      "metadata": {
        "id": "sGpBl0-IlSlB",
        "colab": {
          "base_uri": "https://localhost:8080/",
          "height": 203
        },
        "outputId": "3e8ab22f-9b43-49dd-ab35-971737f1d910"
      },
      "source": [
        ""
      ],
      "execution_count": 50,
      "outputs": [
        {
          "output_type": "execute_result",
          "data": {
            "text/html": [
              "<div>\n",
              "<style scoped>\n",
              "    .dataframe tbody tr th:only-of-type {\n",
              "        vertical-align: middle;\n",
              "    }\n",
              "\n",
              "    .dataframe tbody tr th {\n",
              "        vertical-align: top;\n",
              "    }\n",
              "\n",
              "    .dataframe thead th {\n",
              "        text-align: right;\n",
              "    }\n",
              "</style>\n",
              "<table border=\"1\" class=\"dataframe\">\n",
              "  <thead>\n",
              "    <tr style=\"text-align: right;\">\n",
              "      <th></th>\n",
              "      <th>Item_Type</th>\n",
              "      <th>Item_MRP</th>\n",
              "      <th>Outlet_Identifier</th>\n",
              "      <th>Item_Outlet_Sales</th>\n",
              "    </tr>\n",
              "  </thead>\n",
              "  <tbody>\n",
              "    <tr>\n",
              "      <th>0</th>\n",
              "      <td>5</td>\n",
              "      <td>249.8092</td>\n",
              "      <td>49</td>\n",
              "      <td>3735.1380</td>\n",
              "    </tr>\n",
              "    <tr>\n",
              "      <th>1</th>\n",
              "      <td>9</td>\n",
              "      <td>48.2692</td>\n",
              "      <td>18</td>\n",
              "      <td>443.4228</td>\n",
              "    </tr>\n",
              "    <tr>\n",
              "      <th>2</th>\n",
              "      <td>10</td>\n",
              "      <td>141.6180</td>\n",
              "      <td>49</td>\n",
              "      <td>2097.2700</td>\n",
              "    </tr>\n",
              "    <tr>\n",
              "      <th>3</th>\n",
              "      <td>1</td>\n",
              "      <td>182.0950</td>\n",
              "      <td>10</td>\n",
              "      <td>732.3800</td>\n",
              "    </tr>\n",
              "    <tr>\n",
              "      <th>4</th>\n",
              "      <td>3</td>\n",
              "      <td>53.8614</td>\n",
              "      <td>13</td>\n",
              "      <td>994.7052</td>\n",
              "    </tr>\n",
              "  </tbody>\n",
              "</table>\n",
              "</div>"
            ],
            "text/plain": [
              "   Item_Type  Item_MRP  Outlet_Identifier  Item_Outlet_Sales\n",
              "0          5  249.8092                 49          3735.1380\n",
              "1          9   48.2692                 18           443.4228\n",
              "2         10  141.6180                 49          2097.2700\n",
              "3          1  182.0950                 10           732.3800\n",
              "4          3   53.8614                 13           994.7052"
            ]
          },
          "metadata": {
            "tags": []
          },
          "execution_count": 50
        }
      ]
    },
    {
      "cell_type": "code",
      "metadata": {
        "id": "T9gdfidrsp3P"
      },
      "source": [
        ""
      ],
      "execution_count": 49,
      "outputs": []
    }
  ]
}